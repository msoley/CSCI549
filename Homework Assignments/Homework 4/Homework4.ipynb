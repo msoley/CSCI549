{
  "nbformat": 4,
  "nbformat_minor": 0,
  "metadata": {
    "colab": {
      "provenance": []
    },
    "kernelspec": {
      "name": "python3",
      "display_name": "Python 3"
    },
    "language_info": {
      "name": "python"
    }
  },
  "cells": [
    {
      "cell_type": "markdown",
      "source": [
        "In this notebook, you will embark on a journey through the science of visualizing data. Data visualization is not just about making pretty graphs; it's a crucial part of data analysis that allows us to understand complex data by leveraging the human visual system.\n",
        "\n",
        "# Why Data Visualization?\n",
        "In the world of Big Data, with an ever-increasing amount of information to process, the ability to visualize data effectively is invaluable. It helps in:\n",
        "\n",
        "* **Understanding trends and patterns**: Visual representations can help us spot trends and patterns that are not obvious in raw data.\n",
        "* **Making informed decisions**: By presenting data in a visual context, we can draw conclusions and make better decisions.\n",
        "* **Communicating information**: It allows us to convey complex information in a more accessible form, making communication with others more effective.\n",
        "\n",
        "# Python and Data Visualization\n",
        "Various libraries make it easy to start, yet powerful enough to create complex visualizations:\n",
        "\n",
        "* **Matplotlib**: The foundation of many other visualization libraries, it is highly customizable and can create a wide variety of plots.\n",
        "* **Seaborn**: Built on top of Matplotlib, it simplifies the creation of beautiful and informative statistical graphics.\n",
        "* **Pandas Plotting**: An extension of the Pandas library, offering quick and easy access to plotting functions for dataframes and series.\n",
        "* **Plotly**: A library that enables interactive plotting, Plotly can be used to create visually appealing and interactive graphs.\n",
        "\n",
        "# Note\n",
        "\n",
        "Both the test and the Jupiter notebook are required parts of this assignment"
      ],
      "metadata": {
        "id": "c_9wD-kTb3u8"
      }
    },
    {
      "cell_type": "markdown",
      "source": [
        "# Setup\n",
        "Run the following code cells for the correct execution of the code"
      ],
      "metadata": {
        "id": "QtWLQZNxeL67"
      }
    },
    {
      "cell_type": "code",
      "execution_count": null,
      "metadata": {
        "id": "tEPeBbzU7J9E"
      },
      "outputs": [],
      "source": [
        "!pip install matplotlib seaborn pandas plotly numpy\n",
        "\n",
        "import calendar\n",
        "import numpy as np\n",
        "import pandas as pd\n",
        "import seaborn as sns\n",
        "import plotly.express as px\n",
        "import matplotlib.pyplot as plt\n",
        "import matplotlib.dates as mdates\n",
        "\n",
        "%matplotlib inline\n",
        "sns.set_style(\"whitegrid\")"
      ]
    },
    {
      "cell_type": "markdown",
      "source": [
        "Upload `LA.csv` to Colab and check if path to the file is correct:"
      ],
      "metadata": {
        "id": "M9KRHy4TS8-c"
      }
    },
    {
      "cell_type": "code",
      "source": [
        "path = './LA.csv'\n",
        "\n",
        "original_dataframe = pd.read_csv(path, delimiter = ';', thousands=' ', parse_dates = ['Month'], dayfirst = True)\n",
        "print(original_dataframe.head())"
      ],
      "metadata": {
        "id": "0ru_Qotnz4Qw"
      },
      "execution_count": null,
      "outputs": []
    },
    {
      "cell_type": "markdown",
      "source": [
        "If you see a table with data of attenance to L. A. Musems, then everything is correct!"
      ],
      "metadata": {
        "id": "Xhn2XyFRTdHD"
      }
    },
    {
      "cell_type": "markdown",
      "source": [
        "# Task 1 (15 points)"
      ],
      "metadata": {
        "id": "_6DRu9Mkx3VW"
      }
    },
    {
      "cell_type": "markdown",
      "source": [
        "Before we can create meaningful visualizations, it's important to ensure that our data is in the right format and that we handle any missing or anomalous values appropriately. This step is crucial because visualizations are only as good as the data they represent. Data that hasn't been properly cleaned can lead to misleading conclusions\n",
        "\n",
        "In this task, you will clean the dataset provided, which includes handling missing values and converting data types. Specifically, you should:\n",
        "\n",
        "1. Handle missing values by filling them with a value of `0`\n",
        "2. Convert the visitor number columns from comma-separated strings to `'int64'`"
      ],
      "metadata": {
        "id": "q7jD_zCn6qzd"
      }
    },
    {
      "cell_type": "code",
      "source": [
        "df = original_dataframe\n",
        "\n",
        "missing_value = # YOUR CODE HERE\n",
        "df.fillna(missing_value, inplace = True)\n",
        "\n",
        "for column in df.columns[1 : ]:\n",
        "    format = # YOUR CODE HERE\n",
        "    if df[column].dtype != format:\n",
        "        df[column] = df[column].astype(int)\n",
        "\n",
        "print(df.head())\n",
        "print(\"\\nData types after conversion:\")\n",
        "print(df.dtypes)"
      ],
      "metadata": {
        "id": "pWsSbXgM0uxd"
      },
      "execution_count": null,
      "outputs": []
    },
    {
      "cell_type": "markdown",
      "source": [
        "**Question 1**: Why is it important to handle missing values in a dataset before proceeding with data visualization? How might different methods of handling missing data (such as filling with zeros, mean imputation, or dropping rows/columns) affect the outcome of your analysis?"
      ],
      "metadata": {
        "id": "NWuqrhbZUqkR"
      }
    },
    {
      "cell_type": "markdown",
      "source": [
        "*Your answer here*"
      ],
      "metadata": {
        "id": "Knr4dyE6Uu6T"
      }
    },
    {
      "cell_type": "markdown",
      "source": [
        "# Task 2 (15 points)\n",
        "Line plots are a fundamental type of visualization that can display trends over time. In this task, you will create a line plot to visualize the visitor trends for a specific location over the given time period\n",
        "\n",
        "Create a line plot using Matplotlib to show the visitor numbers for Avila Adobe each month. This will help in understanding how the visitor count has varied over time\n",
        "\n",
        "\n",
        "1. Set up your plot with appropriate labels for the x-axis (`Month`) and y-axis (`Avila Adobe`)\n",
        "2. Choose a title and names of axises which accurately describes your plot\n",
        "3. Plot the `Month` column on the x-axis and the `Avila Adobe` visitor counts on the y-axis"
      ],
      "metadata": {
        "id": "jQHTQZANWSuk"
      }
    },
    {
      "cell_type": "code",
      "source": [
        "df = original_dataframe\n",
        "\n",
        "plt.figure(figsize = (15, 6))\n",
        "x_axis = # YOUR CODE HERE\n",
        "y_axis = # YOUR CODE HERE\n",
        "plt.scatter(df[x_axis], df[y_axis], color = 'blue')\n",
        "\n",
        "title = # YOUR CODE HERE\n",
        "name_x_axis = # YOUR CODE HERE\n",
        "name_y_axis = # YOUR CODE HERE\n",
        "plt.title(title)\n",
        "plt.xlabel(name_x_axis)\n",
        "plt.ylabel(name_y_axis)\n",
        "\n",
        "# Improve the x-axis to show more dates\n",
        "plt.gca().xaxis.set_major_locator(mdates.YearLocator())\n",
        "plt.gca().xaxis.set_major_formatter(mdates.DateFormatter('%Y'))\n",
        "plt.gca().xaxis.set_minor_locator(mdates.MonthLocator())\n",
        "plt.gcf().autofmt_xdate()\n",
        "\n",
        "# Determine the maximum y-value rounded up to the nearest 5000\n",
        "max_y_value = max(df['Avila Adobe'])\n",
        "rounded_max_y_value = int(-(-max_y_value // 5000) * 5000)\n",
        "\n",
        "# Set y-axis to show specific tick marks at regular intervals\n",
        "y_ticks = range(0, rounded_max_y_value + 1, 5000)\n",
        "plt.yticks(y_ticks)\n",
        "\n",
        "plt.tight_layout()\n",
        "plt.show()"
      ],
      "metadata": {
        "id": "7g9hrfT0io72"
      },
      "execution_count": null,
      "outputs": []
    },
    {
      "cell_type": "code",
      "source": [],
      "metadata": {
        "id": "9VxIWCrBgl6O"
      },
      "execution_count": null,
      "outputs": []
    },
    {
      "cell_type": "markdown",
      "source": [
        "**Question 2**: How do visitor numbers change with the seasons, and what could be potential reasons for these fluctuations? Consider how setting specific intervals on the y-axis might aid in identifying these trends"
      ],
      "metadata": {
        "id": "1SHGbss5p14N"
      }
    },
    {
      "cell_type": "markdown",
      "source": [
        "*Your answer here*"
      ],
      "metadata": {
        "id": "g-FLnkUSqb3e"
      }
    },
    {
      "cell_type": "markdown",
      "source": [
        "# Task 3 (15 points)\n",
        "Now you need to compare visitor trends between two locations over time. This comparative analysis can provide insights into the relative popularity of the locations, as well as the consistency of visitor patterns\n",
        "\n",
        "Create a line plot using Matplotlib that overlays the visitor numbers for Avila Adobe and Chinese American Museum on the same graph. This will help you compare the trends between these two locations\n",
        "\n",
        "\n",
        "1. Ensure both columns of visitor numbers are cleaned and in the correct format for plotting\n",
        "2. Set up your plot with appropriate labels for the x-axis and y-axis\n",
        "3. Plot both Avila Adobe and Chinese American Museum visitor counts on the y-axis with the `Month` on the x-axis\n",
        "4. Add a legend to distinguish between the two locations\n",
        "5. Customize the appearance of your plot, such as line colors and styles, to make the trends clear and distinct"
      ],
      "metadata": {
        "id": "cU-JFqoxqdBd"
      }
    },
    {
      "cell_type": "code",
      "source": [
        "df = original_dataframe\n",
        "df_sorted = df.sort_values('Month')\n",
        "\n",
        "plt.figure(figsize = (15, 6))\n",
        "\n",
        "plt.plot(df_sorted['Month'], df_sorted['Avila Adobe'], label = 'Avila Adobe', color = 'blue', marker = 'o')\n",
        "plt.plot( # YOUR CODE HERE ABOUT THE Chinese American Museum. Choose another color and marker for this line\n",
        "\n",
        "# Adding title and labels\n",
        "plt.title(# YOUR CODE HERE\n",
        "plt.xlabel( # YOUR CODE HERE\n",
        "plt.ylabel(# YOUR CODE HERE\n",
        "\n",
        "# Setting x-axis major and minor locators and formatters\n",
        "plt.gca().xaxis.set_major_locator(mdates.YearLocator())\n",
        "plt.gca().xaxis.set_major_formatter(mdates.DateFormatter('%Y'))\n",
        "plt.gca().xaxis.set_minor_locator(mdates.MonthLocator())\n",
        "plt.gcf().autofmt_xdate()\n",
        "\n",
        "# Adding a legend to distinguish between the two lines\n",
        "plt.legend()\n",
        "\n",
        "plt.tight_layout()\n",
        "plt.show()"
      ],
      "metadata": {
        "id": "0lkVZ2zAr7qZ"
      },
      "execution_count": null,
      "outputs": []
    },
    {
      "cell_type": "markdown",
      "source": [
        "**Question 3**: What similarities and differences do you observe in the visitor patterns over time? Discuss possible reasons for these trends and how they might inform future decisions for museum management and marketing strategies"
      ],
      "metadata": {
        "id": "tA3gKO6OzrrF"
      }
    },
    {
      "cell_type": "markdown",
      "source": [
        "*Your answer here*"
      ],
      "metadata": {
        "id": "UgxVj_AFzz6U"
      }
    },
    {
      "cell_type": "markdown",
      "source": [
        "# Task 4 (15 points)\n",
        " Data visualization is not just about creating graphs; it's also about interpreting data, understanding the story it tells, and making informed decisions based on that data\n",
        "\n",
        "Heatmaps are effective for displaying the magnitude of a phenomenon as color in two dimensions and can reveal any patterns or correlations in the data.\n",
        "\n",
        "1. Convert the 'Month' column to a format that extracts the year and month separately for grouping.\n",
        "2. Filter data to display only 2014 year\n",
        "3. Use Seaborn's heatmap function to visualize the pivot table, displaying how visitor numbers change over months and across locations."
      ],
      "metadata": {
        "id": "7t-wiPJKz9jY"
      }
    },
    {
      "cell_type": "code",
      "source": [
        "import pandas as pd\n",
        "import matplotlib.pyplot as plt\n",
        "import seaborn as sns\n",
        "import calendar\n",
        "\n",
        "# Load the data from the uploaded file\n",
        "file_path = './LA.csv'\n",
        "attendance_data = pd.read_csv(file_path, delimiter=';')\n",
        "\n",
        "# Convert 'Month' to datetime and format it for easy sorting\n",
        "attendance_data['Month'] = # YOUR CODE HERE\n",
        "\n",
        "# Replace spaces in visitor numbers and convert to integer\n",
        "for column in attendance_data.columns[1:]:\n",
        "    attendance_data[column] = attendance_data[column].str.replace(' ', '').astype(float)\n",
        "\n",
        "# Fill missing values with 0 (assuming no visitors for missing data)\n",
        "attendance_data.fillna(0, inplace=True)\n",
        "\n",
        "\n",
        "# Set the index of the dataframe to the 'Month' column for easier plotting\n",
        "attendance_data.set_index('Month', inplace=True)\n",
        "\n",
        "# Extract only the year 2014\n",
        "attendance_data_2014 = # YOUR CODE HERE\n",
        "\n",
        "# Replace month numbers with month names for better readability\n",
        "attendance_data_2014.index = attendance_data_2014.index.strftime('%B')\n",
        "\n",
        "# Plotting the heatmap\n",
        "plt.figure(figsize=(15, 10))\n",
        "sns.heatmap(# YOUR CODE HERE\n",
        "\n",
        "plt.title(\"Visitor Numbers by Month for 2014\")\n",
        "plt.xlabel(\"Month\")\n",
        "plt.ylabel(\"Place\")\n",
        "plt.xticks(rotation=45)\n",
        "plt.yticks(rotation=0)\n",
        "\n",
        "plt.show()\n",
        "\n"
      ],
      "metadata": {
        "id": "rLMwGDR42gzz"
      },
      "execution_count": null,
      "outputs": []
    },
    {
      "cell_type": "code",
      "source": [],
      "metadata": {
        "id": "S_zP_0CVgnml"
      },
      "execution_count": null,
      "outputs": []
    },
    {
      "cell_type": "markdown",
      "source": [
        "# Bonus task 1 (bonus 15 points)\n",
        "\n",
        "Use **Excel** to create lineplot from task 3\n",
        "\n",
        "Create a line plot using Excel that overlays the visitor numbers over time for Avila Adobe and Chinese American Museum on the same graph.\n",
        "\n",
        "Create\n",
        "Ensure both columns of visitor numbers are cleaned and in the correct format for plotting\n",
        "Set up your plot with appropriate labels for the x-axis and y-axis\n",
        "Plot both Avila Adobe and Chinese American Museum visitor counts on the y-axis with the Month on the x-axis\n",
        "\n",
        "Attach screenshot of the plot from Excel"
      ],
      "metadata": {
        "id": "Ms_nF73OBr9u"
      }
    },
    {
      "cell_type": "markdown",
      "source": [],
      "metadata": {
        "id": "kQ9xoGTiBlLb"
      }
    },
    {
      "cell_type": "code",
      "source": [],
      "metadata": {
        "id": "UBpDVCf2Bkks"
      },
      "execution_count": null,
      "outputs": []
    },
    {
      "cell_type": "markdown",
      "source": [
        "# Bonus task 2 (bonus 10 points)\n",
        "\n",
        "Use **Excel** to create piechart thay displays number of visitors over different locations throughout 2015 year.\n",
        "\n",
        "\n",
        "Attach screenshot of the chart from Excel"
      ],
      "metadata": {
        "id": "hyIybRe8BpZW"
      }
    },
    {
      "cell_type": "markdown",
      "source": [],
      "metadata": {
        "id": "J_-4r8gWBl3T"
      }
    },
    {
      "cell_type": "code",
      "source": [],
      "metadata": {
        "id": "rsWowCqfBpyB"
      },
      "execution_count": null,
      "outputs": []
    }
  ]
}