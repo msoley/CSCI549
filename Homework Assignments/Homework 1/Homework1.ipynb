{
  "cells": [
    {
      "cell_type": "markdown",
      "metadata": {
        "id": "h6P5nezFDNNY"
      },
      "source": [
        "# Understanding traffic collisions in LA county\n",
        "\n",
        "The goal of this exercise is to perform some basic data exploration to understand the data we wish to work with.\n",
        "\n",
        "The dataset is available from https://data.lacity.org/A-Safe-City/Traffic-Collision-Data-from-2010-to-Present/d5tf-ez2w. You can try to download directly using wget. If the connection fails, download manually onto your computer and upload to Collab. If you do so, make sure to name the file: 'Traffic_Collision_Data.csv'.\n",
        "\n",
        "`wget` is a command line utility to download files from the web."
      ]
    },
    {
      "cell_type": "code",
      "execution_count": null,
      "metadata": {
        "id": "FAexzUuODgOI"
      },
      "outputs": [],
      "source": [
        "pip install wget"
      ]
    },
    {
      "cell_type": "code",
      "execution_count": null,
      "metadata": {
        "id": "DwhvDHAUD3uG"
      },
      "outputs": [],
      "source": [
        "import wget\n",
        "wget.download('https://data.lacity.org/api/views/d5tf-ez2w/rows.csv?accessType=DOWNLOAD','Traffic_Collision_Data.csv')"
      ]
    },
    {
      "cell_type": "markdown",
      "metadata": {
        "id": "8ZFQWeLiEXHr"
      },
      "source": [
        "## Exploring tabular data\n",
        "\n",
        "The collision data is in tabular format. Next, we will load some libraries that will allow you to visualize the data."
      ]
    },
    {
      "cell_type": "code",
      "execution_count": null,
      "metadata": {
        "id": "akoNVxtUEbGy"
      },
      "outputs": [],
      "source": [
        "import pandas as pd\n",
        "import numpy as np\n",
        "import seaborn as sns\n",
        "import matplotlib.pyplot as plt\n",
        "import plotly.offline as py\n",
        "py.init_notebook_mode(connected=True)\n",
        "import plotly.graph_objs as go\n",
        "import plotly.tools as tls\n",
        "import datetime"
      ]
    },
    {
      "cell_type": "markdown",
      "metadata": {
        "id": "JlUG6jShExUN"
      },
      "source": [
        "Let's read the data in. If you're interested in the code, the csv was imported into a pandas dataframe. Pandas is a widly use library to deal with this kind of data.\n",
        "\n",
        "`df.head` prints out the column name and the first few rows."
      ]
    },
    {
      "cell_type": "code",
      "execution_count": null,
      "metadata": {
        "id": "6s06ftRpEy90"
      },
      "outputs": [],
      "source": [
        "df = pd.read_csv(\"Traffic_Collision_Data.csv\")\n",
        "df.head()"
      ]
    },
    {
      "cell_type": "markdown",
      "metadata": {
        "id": "04GFxnNHE-G-"
      },
      "source": [
        "**Question**: Describe the information contained in each column of the dataframe. Do not just list the name of the columns. (10 points)\n",
        "\n",
        "The `df.shape` function gives you information about the number of lines and columns present in the tabular data."
      ]
    },
    {
      "cell_type": "code",
      "execution_count": null,
      "metadata": {
        "id": "lnCL_AByFuh0"
      },
      "outputs": [],
      "source": [
        "df.shape"
      ]
    },
    {
      "cell_type": "markdown",
      "metadata": {
        "id": "dQlpmcuOFiKw"
      },
      "source": [
        "The `df.info()` function allows you to output the name of the columns, the number of non-null values in each column, giving you a quick overview about the number of missing data, as well as the format of the data."
      ]
    },
    {
      "cell_type": "code",
      "execution_count": null,
      "metadata": {
        "id": "v_tb-u7aFHK_"
      },
      "outputs": [],
      "source": [
        "df.info()"
      ]
    },
    {
      "cell_type": "markdown",
      "metadata": {
        "id": "oX4wq6wGF36z"
      },
      "source": [
        "**Question:** Based on the shape and information, which variables have null values associated with them? How did you come to this conclusion? (10 points)\n",
        "\n",
        "The cell below encodes the same calculation in one line code that you can use to look at how many rows have missing information."
      ]
    },
    {
      "cell_type": "code",
      "execution_count": null,
      "metadata": {
        "id": "DHUXu5lWFbNp"
      },
      "outputs": [],
      "source": [
        "df.isnull().sum()"
      ]
    },
    {
      "cell_type": "markdown",
      "metadata": {
        "id": "2b-dnVyIGvX9"
      },
      "source": [
        "Python can reason with time information. To do so, it uses the datatime format. You can transform the strings contained in the table to datetime using the following:"
      ]
    },
    {
      "cell_type": "code",
      "execution_count": null,
      "metadata": {
        "id": "d0w4IU40GVvn"
      },
      "outputs": [],
      "source": [
        "df['Year Reported'] = pd.to_datetime(df['Date Reported']).dt.year\n",
        "df['Year Occurred'] = pd.to_datetime(df['Date Occurred']).dt.year\n",
        "df.head()"
      ]
    },
    {
      "cell_type": "markdown",
      "metadata": {
        "id": "85gcDAHmH7u8"
      },
      "source": [
        "## Number of collisions through time\n",
        "\n",
        "This chart summarizes the trend in collisions over the past decade."
      ]
    },
    {
      "cell_type": "code",
      "execution_count": null,
      "metadata": {
        "id": "v6DFlMzqH4i1"
      },
      "outputs": [],
      "source": [
        "plt.subplots(figsize = (20,5))\n",
        "v = df['Year Occurred'].value_counts()\n",
        "v = v.sort_index()\n",
        "v.plot(title='Collisions per year', xlabel='Year', ylabel = 'Number of Collisions', xticks=np.arange(2010,2024,1), marker='o')\n",
        "plt.show()"
      ]
    },
    {
      "cell_type": "markdown",
      "metadata": {
        "id": "pNr0qpEfIT7Z"
      },
      "source": [
        "**Question:** What trend do you observe? What happened in 2020? in 2021? (15 points)\n",
        "\n",
        "## Collisions by road"
      ]
    },
    {
      "cell_type": "code",
      "execution_count": null,
      "metadata": {
        "id": "-8KMwMtLJUIF"
      },
      "outputs": [],
      "source": [
        "address_count_accidents = df['Address'].value_counts()\n",
        "\n",
        "# Fetching the top 3 roads with the most accidents\n",
        "top_3_accidents = address_count_accidents.head(3)\n",
        "\n",
        "print(\"Top 3 roads with the most accidents:\")\n",
        "for index, value in top_3_accidents.items():\n",
        "    print(f\"{index}: {value} accidents\")"
      ]
    },
    {
      "cell_type": "markdown",
      "metadata": {
        "id": "13BYgp2CLbcf"
      },
      "source": [
        "**Question**: On which road do the highest number of collisions occur?\n",
        "\n",
        "Does this automatically imply that this road is the most dangerous?\n",
        "\n",
        "If not, what additional information would be needed to draw such a conclusion? (15 points)\n",
        "\n",
        "## Collisions by age group"
      ]
    },
    {
      "cell_type": "code",
      "execution_count": null,
      "metadata": {
        "id": "gMahmQ9WLZ_n"
      },
      "outputs": [],
      "source": [
        "plt.subplots(figsize = (15,7))\n",
        "sns.countplot(x = df['Victim Age'])\n",
        "plt.title('Collisions by Victim Age')\n",
        "plt.xticks(rotation = 90)\n",
        "plt.show()"
      ]
    },
    {
      "cell_type": "markdown",
      "metadata": {
        "id": "38JGLKhQMPVK"
      },
      "source": [
        "**Question**: How do you explain the increase in the 99 age group? How do you explain the spikes at 25, 30, 35, 40, 45... years old? (15 points)\n",
        "\n",
        "##Collisions by time of day"
      ]
    },
    {
      "cell_type": "code",
      "execution_count": null,
      "metadata": {
        "id": "kLHlSLYsMAYK"
      },
      "outputs": [],
      "source": [
        "import datetime as dt\n",
        "def convert(x):\n",
        "  return dt.datetime.strptime(x, '%H:%M')\n",
        "\n",
        "def getTime(t):\n",
        "    t = str(t)\n",
        "    if len(t)==1:\n",
        "      return t[0]+':'+'00'\n",
        "    if len(t)<4:\n",
        "      return t[:1] + ':' + t[1:]\n",
        "    else:\n",
        "      return t[:2] + ':' + t[2:]"
      ]
    },
    {
      "cell_type": "code",
      "execution_count": null,
      "metadata": {
        "id": "_6AOKujFMvIr"
      },
      "outputs": [],
      "source": [
        "df1 = df[(df['Year Occurred'].isin([2010, 2011, 2012, 2013, 2014, 2015, 2016, 2017, 2018, 2019, 2020, 2021, 2022, 2023]))]\n",
        "\n",
        "df1['Time Occurred']= df1['Time Occurred'].apply(getTime)\n",
        "df1['Time Occurred']=df1['Time Occurred'].apply(convert)"
      ]
    },
    {
      "cell_type": "code",
      "execution_count": null,
      "metadata": {
        "id": "GzWTCHiqMxNv"
      },
      "outputs": [],
      "source": [
        "hours = [t.hour for t in df1['Time Occurred'] ]\n",
        "numbers=[x for x in range(0,24)]\n",
        "labels=map(lambda x: str(x), numbers)\n",
        "plt.subplots(figsize = (15,6))\n",
        "sns.countplot(x = hours)"
      ]
    },
    {
      "cell_type": "markdown",
      "metadata": {
        "id": "SBuF93ZzsYQO"
      },
      "source": [
        "**Question**: When are collisions more frequent? Can you form an hypothesis of why that is? What other dataset would you need to confirm your hypothesis? (20 points)"
      ]
    },
    {
      "cell_type": "markdown",
      "metadata": {
        "id": "VpOkffJjCCYU"
      },
      "source": [
        "## (Bonus) Collisions by weekday\n",
        "\n",
        "Convert the date to a weekday.\n",
        "\n",
        "Visualize the number of accidents by weekdays."
      ]
    },
    {
      "cell_type": "code",
      "execution_count": null,
      "metadata": {
        "id": "-DXowYRyGLLa"
      },
      "outputs": [],
      "source": [
        "#Create new dataframe column for Weekday\n",
        "df['Weekday'] = #Your code here#\n",
        "\n",
        "#Visialize the number of accidents by weekdays\n",
        "#Your code here#"
      ]
    },
    {
      "cell_type": "markdown",
      "metadata": {
        "id": "4J3ZKeIqDv_S"
      },
      "source": [
        "**Question**:\n",
        "Which day has the most number of collisions? (15 points)"
      ]
    }
  ],
  "metadata": {
    "colab": {
      "provenance": []
    },
    "kernelspec": {
      "display_name": "Python 3",
      "language": "python",
      "name": "python3"
    },
    "language_info": {
      "codemirror_mode": {
        "name": "ipython",
        "version": 3
      },
      "file_extension": ".py",
      "mimetype": "text/x-python",
      "name": "python",
      "nbconvert_exporter": "python",
      "pygments_lexer": "ipython3",
      "version": "3.7.6"
    }
  },
  "nbformat": 4,
  "nbformat_minor": 0
}
