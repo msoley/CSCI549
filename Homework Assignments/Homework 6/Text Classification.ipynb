{
 "cells": [
  {
   "cell_type": "markdown",
   "metadata": {},
   "source": [
    "# A Notebook for Text Classification #  \n",
    "\n",
    "This notebook will show you how to classify text documents.  Before running a classifier, the text has to be converted into features.  This is called featurization. \n",
    "\n",
    "The following cell contains some predefined functions to implement text featurization and classification. Please make sure you have run this cell before you run other cells in this notebook."
   ]
  },
  {
   "cell_type": "code",
   "execution_count": null,
   "metadata": {
    "collapsed": true
   },
   "outputs": [],
   "source": [
    "import numpy as np\n",
    "import pandas as pd\n",
    "from sklearn.naive_bayes import BernoulliNB,GaussianNB,MultinomialNB\n",
    "\n",
    "def SampleData(dataset):\n",
    "    import pandas as pd\n",
    "    df=pd.read_csv(dataset,'\\t')\n",
    "    with pd.option_context('max_colwidth',160):\n",
    "        display(df.head())\n",
    "    return df.head()\n",
    "    \n",
    "\n",
    "def featDataset(dataset):\n",
    "    output=dataset[:-4]+'_Vectorized.txt'\n",
    "    with open(output,\"w\") as w:\n",
    "        with open(dataset,encoding='utf-8', mode = 'r') as f:\n",
    "            data=f.readlines()\n",
    "            text=[entry.split('\\t')[1].rstrip() for entry in data[1:]]\n",
    "            labels=[entry.split('\\t')[0] for entry in data[1:]]\n",
    "            parsedText=list(map(textParse,text))\n",
    "            vocabList=createVocabList(parsedText)\n",
    "            for word in vocabList:\n",
    "                w.write(word+',')\n",
    "            w.write('class\\n')\n",
    "            for i in range(len(labels)):\n",
    "                returnVec=setOfWords2Vec(vocabList,parsedText[i])\n",
    "                for num in returnVec:\n",
    "                    w.write(str(num)+',')\n",
    "                w.write(labels[i]+\"\\n\")\n",
    "            return vocabList\n",
    "\n",
    "def createVocabList(dataSet):\n",
    "    vocabSet=set([])\n",
    "    for document in dataSet:\n",
    "        vocabSet=vocabSet|set(document)\n",
    "    return list(vocabSet)\n",
    "        \n",
    "def textParse(bigString):\n",
    "    import re\n",
    "    #listOfTokens=re.split(r'\\W*',bigString)\n",
    "    listOfTokens=re.split(r'[^A-Za-z]+',bigString)\n",
    "    return [tok.lower() for tok in listOfTokens if len(tok)>2]\n",
    "\n",
    "def setOfWords2Vec(vocabList,inputSet):\n",
    "    returnVec=[0]*len(vocabList)\n",
    "    for word in inputSet:\n",
    "        if word in vocabList:\n",
    "            returnVec[vocabList.index(word)]=1\n",
    "        else: print('the word: %s is not in my Vocabulary' % word)\n",
    "    return returnVec\n",
    "\n",
    "def loadDataSet(dataset): \n",
    "    with open(dataset) as f:\n",
    "        data=f.readlines()\n",
    "        attributes=data[0].rstrip().split(',')[:-1]\n",
    "        #print(\"attributes\",len(attributes))\n",
    "        instances=[entry.rstrip().split(',')[:-1] for entry in data[1:]]\n",
    "        dataArray=[]\n",
    "        for i in range(len(instances[0])):\n",
    "            try:\n",
    "                dataArray.append([float(instance[i]) for instance in instances])\n",
    "            except:\n",
    "                encodedData,codeBook=encode([instance[i] for instance in instances])\n",
    "                dataArray.append(encodedData)\n",
    "                print(attributes[i],': ',list(codeBook.items()))\n",
    "        instances=np.array(dataArray).T\n",
    "        labels=[entry.rstrip().split(',')[-1] for entry in data[1:]]\n",
    "        return instances,labels\n",
    "'''\n",
    "def chooseClassifier(choice,instances,labels):\n",
    "    clf=[]\n",
    "    choice=choice.split(',')\n",
    "    if \"1\" in choice:\n",
    "        clf_B = BernoulliNB()\n",
    "        clf_B.fit(instances, labels)\n",
    "        print('Bernoulli Naive Bayes is used.')\n",
    "        clf.append(clf_B)\n",
    "    if \"2\" in choice:\n",
    "        clf_G = GaussianNB()\n",
    "        clf_G.fit(instances, labels)\n",
    "        print(\"Gaussian Naive Bayes is used.\")\n",
    "        clf.append(clf_G)\n",
    "    if \"3\" in choice:\n",
    "        clf_M = MultinomialNB()\n",
    "        clf_M.fit(instances, labels)\n",
    "        print(\"Multinomial Naive Bayes is used.\")\n",
    "        clf.append(clf_M)\n",
    "    if not ('1' in choice or '2' in choice or '3' in choice):\n",
    "        print(\"Please choose a correct classifier.\")\n",
    "    return clf\n",
    "'''\n",
    "    \n",
    "def evaluateClf(clf,instances,labels,n_foldCV):\n",
    "    for item in clf:\n",
    "        if type(item).__name__==\"BernoulliNB\":\n",
    "            scores = cross_val_score(item, instances, labels, cv=n_foldCV)\n",
    "            print(\"======BernoulliNB======\")\n",
    "            print(scores)\n",
    "            print(\"Accuracy: %0.2f (+/- %0.2f)\" % (scores.mean(), scores.std() * 2))\n",
    "        elif type(item).__name__==\"GaussianNB\":\n",
    "            scores = cross_val_score(item, instances, labels, cv=n_foldCV)\n",
    "            print(\"======GaussianNB======\")\n",
    "            print(scores)\n",
    "            print(\"Accuracy: %0.2f (+/- %0.2f)\" % (scores.mean(), scores.std() * 2))\n",
    "        elif type(item).__name__==\"MultinomialNB\":\n",
    "            scores = cross_val_score(item, instances, labels, cv=n_foldCV)\n",
    "            print(\"======MultinomialNB======\")\n",
    "            print(scores)\n",
    "            print(\"Accuracy: %0.2f (+/- %0.2f)\" % (scores.mean(), scores.std() * 2))\n",
    "'''         \n",
    "def predict(clf,testset):\n",
    "    for item in clf:\n",
    "        if type(item).__name__==\"BernoulliNB\":\n",
    "            prediction=item.predict(testset)\n",
    "            print(\"BernoulliNB: \",prediction)\n",
    "        elif type(item).__name__==\"GaussianNB\":\n",
    "            prediction=item.predict(testset)\n",
    "            print(\"GaussianNB: \",prediction) \n",
    "        elif type(item).__name__==\"MultinomialNB\":\n",
    "            prediction=item.predict(testset)\n",
    "            print(\"MultinomialNB:\",prediction)\n",
    "'''   \n",
    "def predict(testset):\n",
    "    if \"clf_B\" in globals():\n",
    "        prediction=clf_B.predict(testset)\n",
    "        print(\"BernoulliNB: \",prediction)\n",
    "    if \"clf_G\" in globals():\n",
    "        prediction=clf_G.predict(testset)\n",
    "        print(\"GaussianNB: \",prediction)\n",
    "    if \"clf_M\" in globals():\n",
    "        prediction=clf_M.predict(testset)\n",
    "        print(\"MultinomialNB: \",prediction)"
   ]
  },
  {
   "cell_type": "markdown",
   "metadata": {},
   "source": [
    "## Explore the data\n",
    "[\"SMSSpamCollection.txt\"](https://archive.ics.uci.edu/ml/datasets/sms+spam+collection) includes 5572 SMS messages collected from four different research sources and they were labeled as spam or ham. \"testset_SMS\" is the testset and contains two randomly chosen SMS messages from the SMSSpamCollection dataset and they were deleted from the original dataset to prevent dataset contamination. \n",
    "\n",
    "The example text data that we are using are SMS messages which are labeled as spam or no spam.  The task is to classify a new text message as spam or no spam. Each SMS message is considered as a document (an instance for classification). All the instances are stored in a single file, and each line corresponds to a single document.\n",
    "\n",
    "The following cell will give you an excerpt of the SMS message dataset. "
   ]
  },
  {
   "cell_type": "code",
   "execution_count": null,
   "metadata": {},
   "outputs": [],
   "source": [
    "dataset=input('Please Enter Your Data Set:')\n",
    "sample=SampleData(dataset)"
   ]
  },
  {
   "cell_type": "markdown",
   "metadata": {},
   "source": [
    "##  An Example of Featurization\n",
    "Before we explore the real data, it would be helpful to understand how featurization works first. The following cell will show you two documents and how they are combined to generate two feature vectors.  \n",
    "\n",
    "Many machine learning algorithms only take numerical data as input. Since our data is words, we need a way to convert it into numerical data. This is called featurization. First, we will create a list of all the words that appear in all the documents. That list will enable us to create a **vector** for each document where each element of the vector corresponds to a word in that list. For a given instance, each element is a 1 if that word is in the instance and a 0 if it is not.  \n",
    " \n",
    "For instance, if the two documents are, **\"I am taking INF549\"** and **\"I love learning data science\"**, then the vocabulary list would be [\"inf\",\"love\",\"learning\",\"taking\",\"science\",\"data\"] and the two vectorized instances would be [1,0,0,1,0,0] and [0,1,1,0,1,1]. 0 and 1 are boolean values denoting the presence of a word (token). 0 means the word doesn't appear and 1 means it appears in the document. In our algorithm, the fuction only keeps tokens that are made of English characters and whose lengths are longer than 2. Run the cell below to see the result."
   ]
  },
  {
   "cell_type": "code",
   "execution_count": null,
   "metadata": {},
   "outputs": [],
   "source": [
    "two_pieces_text=list(map(textParse,[\"I am taking INF549\",\"I love learning data science\"]))\n",
    "vocabList=createVocabList(two_pieces_text)\n",
    "featurized_vectors=pd.DataFrame([setOfWords2Vec(vocabList,instance) for instance in two_pieces_text],columns=vocabList,\\\n",
    "                               index=[\"Text 1\",\"Text 2\"])\n",
    "display(featurized_vectors)"
   ]
  },
  {
   "cell_type": "markdown",
   "metadata": {},
   "source": [
    "## Preprocess the document to identify all the words\n",
    "Before we featurize the text, we have to create a list with all the words that appear in all the messages. The following cell will generate and display the vocabulary list."
   ]
  },
  {
   "cell_type": "code",
   "execution_count": null,
   "metadata": {},
   "outputs": [],
   "source": [
    "text=[instance.rstrip() for instance in sample.iloc[:,1]]\n",
    "parsedText=list(map(textParse,text))\n",
    "vocabList=createVocabList(parsedText)\n",
    "#print('Parsed Text: ')\n",
    "#for instance in parsedText:\n",
    "#    print(instance)\n",
    "print('Vocabulary List: \\n',vocabList)"
   ]
  },
  {
   "cell_type": "markdown",
   "metadata": {},
   "source": [
    "## Generate features for the documents##\n",
    "For each document, we generate a feature vector which records the appearance of each word in the vocabulary list. \n",
    "\n",
    "The following cell will output the vectors corresponding to the parsed text you got from the last step."
   ]
  },
  {
   "cell_type": "code",
   "execution_count": null,
   "metadata": {},
   "outputs": [],
   "source": [
    "for instance in parsedText:\n",
    "    print(setOfWords2Vec(vocabList,instance))"
   ]
  },
  {
   "cell_type": "markdown",
   "metadata": {},
   "source": [
    "## Put them together\n",
    "Now we will generate feature vectors for each of the documents to the whole dataset."
   ]
  },
  {
   "cell_type": "markdown",
   "metadata": {
    "collapsed": true
   },
   "source": [
    "**Training set vectorization**"
   ]
  },
  {
   "cell_type": "code",
   "execution_count": null,
   "metadata": {},
   "outputs": [],
   "source": [
    "dataset=input('Please Enter Your Data Set:')\n",
    "vocabList=featDataset(dataset)\n",
    "print('The featurization of your documents is done!')"
   ]
  },
  {
   "cell_type": "markdown",
   "metadata": {},
   "source": [
    "## Train a Naïve Bayes Classifier\n",
    "The following cells will train a Naïve Bayes classifier on the featurized dataset. There are three Naive Bayes classifiers provided. They are based on different mathematical foundations and might have different performance over different datasets.  \n",
    "\n",
    "You can try to run different classifiers and compare their performance."
   ]
  },
  {
   "cell_type": "markdown",
   "metadata": {},
   "source": [
    "### Bernoulii Naïve Bayes Classifier"
   ]
  },
  {
   "cell_type": "code",
   "execution_count": null,
   "metadata": {},
   "outputs": [],
   "source": [
    "instances,labels=loadDataSet(dataset[:-4]+'_Vectorized.txt')\n",
    "clf_B = BernoulliNB()\n",
    "clf_B.fit(instances, labels)\n",
    "print('Bernoulli Naive Bayes is used.')"
   ]
  },
  {
   "cell_type": "markdown",
   "metadata": {},
   "source": [
    "### Gaussian Naïve Bayes Classifier"
   ]
  },
  {
   "cell_type": "code",
   "execution_count": null,
   "metadata": {
    "scrolled": true
   },
   "outputs": [],
   "source": [
    "instances,labels=loadDataSet(dataset[:-4]+'_Vectorized.txt')\n",
    "clf_G = GaussianNB()\n",
    "clf_G.fit(instances, labels)\n",
    "print(\"Gaussian Naive Bayes is used.\")"
   ]
  },
  {
   "cell_type": "markdown",
   "metadata": {},
   "source": [
    "### Multinomial Naive Bayes Classifier"
   ]
  },
  {
   "cell_type": "code",
   "execution_count": null,
   "metadata": {},
   "outputs": [],
   "source": [
    "instances,labels=loadDataSet(dataset[:-4]+'_Vectorized.txt')\n",
    "clf_M = MultinomialNB()\n",
    "clf_M.fit(instances, labels)\n",
    "print(\"Multinomial Naive Bayes is used.\")"
   ]
  },
  {
   "cell_type": "markdown",
   "metadata": {},
   "source": [
    "## Predict unseen examples\n",
    "The following cell will ask you to input the test set, featurize it and predict it. Run the cell and you will get the results from the classifiers you have run."
   ]
  },
  {
   "cell_type": "markdown",
   "metadata": {},
   "source": [
    "**Test set vectorization**  "
   ]
  },
  {
   "cell_type": "code",
   "execution_count": null,
   "metadata": {},
   "outputs": [],
   "source": [
    "testset=input('Please enter the text message that you want to test:')\n",
    "returnVec=setOfWords2Vec(vocabList,textParse(testset))\n",
    "print(returnVec)"
   ]
  },
  {
   "cell_type": "markdown",
   "metadata": {},
   "source": [
    "**Predict result**  "
   ]
  },
  {
   "cell_type": "code",
   "execution_count": null,
   "metadata": {},
   "outputs": [],
   "source": [
    "testset=np.array(returnVec).reshape(1, -1)\n",
    "predict(testset)"
   ]
  },
  {
   "cell_type": "markdown",
   "metadata": {},
   "source": [
    "Now you can print this notebook as a PDF file and turn it in."
   ]
  }
 ],
 "metadata": {
  "anaconda-cloud": {},
  "kernelspec": {
   "display_name": "Python 3",
   "language": "python",
   "name": "python3"
  },
  "language_info": {
   "codemirror_mode": {
    "name": "ipython",
    "version": 3
   },
   "file_extension": ".py",
   "mimetype": "text/x-python",
   "name": "python",
   "nbconvert_exporter": "python",
   "pygments_lexer": "ipython3",
   "version": "3.6.3"
  }
 },
 "nbformat": 4,
 "nbformat_minor": 2
}
