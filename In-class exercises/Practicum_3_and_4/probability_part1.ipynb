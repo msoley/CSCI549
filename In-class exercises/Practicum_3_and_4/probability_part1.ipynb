{
 "cells": [
  {
   "cell_type": "code",
   "execution_count": null,
   "metadata": {},
   "outputs": [],
   "source": [
    "from matplotlib import pyplot as plt\n",
    "import matplotlib\n",
    "import numpy as np\n",
    "from scipy.stats import norm\n",
    "from scipy.stats import t\n",
    "from scipy.stats import chi2\n",
    "from scipy.special import binom\n",
    "import pylab as p\n",
    "import math"
   ]
  },
  {
   "cell_type": "markdown",
   "metadata": {},
   "source": [
    "**Problem:** in our class there are 77 students. Would you bet that there are at lest two students with the same birthday (day and month)? (assume you were all born in a non leap year)\n",
    "\n",
    "**Solution:** assume each student has equal chances to be born in any day of the year. Thus, there are $D=365^{77}$ possibilities. However, there are only $N=365\\cdot 364\\cdots (365-77+1)$ assignments of unique birthdays to the 77 students. Thus the probability that the students were all born in different days is $N/D$. Taking the complement event we obtain $1-N/D$.\n"
   ]
  },
  {
   "cell_type": "code",
   "execution_count": null,
   "metadata": {},
   "outputs": [],
   "source": [
    "# number of days of the year (not a leap year)\n",
    "N = 365\n",
    "\n",
    "# array of number of students (from 1 to max=N)\n",
    "nn = range(1,N+1)\n",
    "\n",
    "# birthday probability vector\n",
    "p = []\n",
    "\n",
    "# number of pairs to plot\n",
    "m = 100\n",
    "\n",
    "for n in nn:\n",
    "    \n",
    "    # compute p = 1 - N/D for n students\n",
    "    num = range(n)\n",
    "    num = np.array([float(N-x) for x in num])\n",
    "    denom = np.array([float(N)]*n)\n",
    "    q = num/denom\n",
    "    p.append(1-np.prod(q))\n",
    "\n",
    "p = np.array(p)\n",
    "\n",
    "# find p^-1(0.5)\n",
    "i = np.nonzero((p > 0.48) & (p < 0.52))\n",
    "k05 = i[0][0]\n",
    "k = 76\n",
    "\n",
    "y = np.linspace(0.0, 1.1, 100)\n",
    "x1 = [k]*100\n",
    "x2 = [k05]*100\n",
    "\n",
    "# plot probability as a function of the number of the students\n",
    "fig, ax = plt.subplots(1, 1)\n",
    "label = \"p[{}] = {:0.3f}\\np[{}] = {:0.3f}\".format(k05+1,p[k05],k+1,p[k])\n",
    "ax.plot(nn[:m], p[:m], 'r-', lw=1, alpha=0.6, label=label)\n",
    "ax.plot(x1,y, 'b-', lw=1, alpha=0.6)\n",
    "ax.plot(x2,y, 'b-', lw=1, alpha=0.6)\n",
    "ax.legend(loc='best', frameon=False)\n",
    "plt.xlabel(\"number of students\")\n",
    "plt.ylabel(\"probability\")\n",
    "plt.show()\n"
   ]
  },
  {
   "cell_type": "markdown",
   "metadata": {},
   "source": [
    "**Probability Spaces**\n",
    "\n",
    "Consider the following probability space\n",
    "\n",
    "${\\cal P}=([0,1],{\\cal B},\\lambda)$ where\n",
    "\n",
    "1. ${\\cal B}$ is the smallest $\\sigma$-field that contains the intervals in $[0,1]$ (Borel $\\sigma$-algebra)\n",
    "\n",
    "2. $\\lambda:{\\cal B}\\rightarrow [0,1]$ is the only probability measure such that\n",
    "$P([a,b))=b-a$ (Lebesgue mesaure on ${\\cal B}$)\n",
    "\n",
    "This is the one-dimensional version of the experiment of shooting darts on a square of side one explained in the recorded lecture. Think of shooting darts using a collimator that ensures that the dart will always hit on the segment of length 1."
   ]
  },
  {
   "cell_type": "markdown",
   "metadata": {},
   "source": [
    "**Problem:** Let  𝐴=[0,1/2]⊆[0,1] . What is  𝜆(𝐴) ?\n",
    "\n",
    "**Solution:**  𝜆(𝐴)=1/2−0=1/2 \n"
   ]
  },
  {
   "cell_type": "code",
   "execution_count": null,
   "metadata": {},
   "outputs": [],
   "source": [
    "def P(I):\n",
    "    return I[1]-I[0]\n",
    "\n",
    "A=[0,1/4]\n",
    "\n",
    "P(A)\n",
    "\n"
   ]
  },
  {
   "cell_type": "markdown",
   "metadata": {},
   "source": [
    "**Problem:** Let us translate the interval by 1/4:  𝐵=[1/4,3/4] . What is  𝜆(𝐵) ?\n",
    "\n",
    "**Solution:**  𝜆(𝐵)=3/4−1/4=1/2 . Since the probability of an interval depends only on its length the probability of any interval is invariant under translation as long as the translated interval remains contained in  [0,1]"
   ]
  },
  {
   "cell_type": "code",
   "execution_count": null,
   "metadata": {},
   "outputs": [],
   "source": [
    "def P(I):\n",
    "    return I[1]-I[0]\n",
    "\n",
    "A=[0,1/4]\n",
    "\n",
    "B = [x+1/4 for x in A]\n",
    "\n",
    "P(B)\n"
   ]
  },
  {
   "cell_type": "markdown",
   "metadata": {},
   "source": [
    "**Indicator Random Variables**\n",
    "\n",
    "${\\cal P}=([0,1],{\\cal B},\\lambda)$\n",
    "\n",
    "Let $A=[0,1/2]$ and\n",
    "\n",
    "$X_A:[0,1]\\rightarrow \\{0,1\\}$ the RV defined as\n",
    "\n",
    "$X(\\omega)=1$ if and only if $\\omega\\in A$"
   ]
  },
  {
   "cell_type": "markdown",
   "metadata": {},
   "source": [
    "**Problem**: what is $P(X_A=1)$?\n",
    "\n",
    "**Solution**: $P(X_A=1)=P(\\{\\omega: X_A(\\omega)=1\\})=P(A)=1/2$"
   ]
  },
  {
   "cell_type": "markdown",
   "metadata": {},
   "source": [
    "**Problem**: Let $B=[0,p]$, $p\\leq 1$, what is $P(X_B=1)$?\n",
    "\n",
    "**Solution**: $P(X_B=1)=P(\\{\\omega: X_B(\\omega)=1\\})=P(B)=p$"
   ]
  },
  {
   "cell_type": "code",
   "execution_count": null,
   "metadata": {},
   "outputs": [],
   "source": [
    "def P(I):\n",
    "    return I[1]-I[0]\n",
    "\n",
    "p = 0.2\n",
    "\n",
    "I = [0,p]\n",
    "\n",
    "P(I)\n"
   ]
  },
  {
   "cell_type": "markdown",
   "metadata": {},
   "source": [
    "**Problem:** simulate the flipping of a coin with probability of Head equal to $p$ using a random number generator that samples uniformly at random a number in $[0,1]$\n",
    "\n",
    "**Solution:** This is equivalent to sampling an indicator RV for event $A=[0,p)$ of probability space ${\\cal P}$. Thus, sample a number from $[0,1]$ and return 1 if the number is smaller than or equal to $p$"
   ]
  },
  {
   "cell_type": "code",
   "execution_count": null,
   "metadata": {},
   "outputs": [],
   "source": [
    "p = 0.7\n",
    "I = [0.1,p+0.1]\n",
    "\n",
    "print(I[1]-I[0])\n",
    "\n",
    "# throw a dart 10000 times on a segment of length 1\n",
    "r = np.random.random(10000)\n",
    "\n",
    "# apply original indicator RV:\n",
    "x1 = r<=p\n",
    "x1 = [int(u) for u in x1]\n",
    "\n",
    "# apply new indicator RV:\n",
    "x2 = (r<=I[1]) & (r>=I[0])\n",
    "x2 = [int(u) for u in x2]\n",
    "\n",
    "print(np.sum(x1)/len(x1))\n",
    "print(np.sum(x2)/len(x2))"
   ]
  },
  {
   "cell_type": "code",
   "execution_count": null,
   "metadata": {},
   "outputs": [],
   "source": [
    "n = 1000\n",
    "p = 0.7\n",
    "\n",
    "r = np.random.random(n)<p\n",
    "\n",
    "r = [int(x) for x in r]\n",
    "\n",
    "sum(r)/len(r)"
   ]
  },
  {
   "cell_type": "markdown",
   "metadata": {},
   "source": [
    "**Independent Events**\n",
    "\n",
    "Consider the probability space for casting two perfect dice\n",
    "\n",
    "${\\cal D}=(\\Omega=\\{1,2,3,4,5,6\\}\\times \\{1,2,3,4,5,6\\},2^{\\Omega},P)$\n",
    "\n",
    "where $P$ is the unique extension to $2^{\\Omega}$ of that function that assigns 1/36 to each singleton $\\{(i,j)\\}$ for $i,j\\in \\{1,2,3,4,5,6\\}$\n",
    "\n",
    "Thus, for any $A\\in \\Omega$ it is $P(A)=|A|/|\\Omega|$"
   ]
  },
  {
   "cell_type": "markdown",
   "metadata": {},
   "source": [
    "**Problem:** show that the probability of having seeing pair 2,4 factors as the product of seeing 2 in the first die and 4 in the second\n",
    "\n",
    "**Solution:** define the events, evaluate the three probabilities, and verify the factoring property"
   ]
  },
  {
   "cell_type": "code",
   "execution_count": null,
   "metadata": {},
   "outputs": [],
   "source": [
    "faces = range(6)\n",
    "faces = [x+1 for x in faces]\n",
    "\n",
    "omega = [(x,y) for x in faces for y in faces]\n",
    "\n",
    "omega\n",
    "\n"
   ]
  },
  {
   "cell_type": "code",
   "execution_count": null,
   "metadata": {},
   "outputs": [],
   "source": [
    "# define event A = \"2 observed on the first die\"\n",
    "A = [(2,x) for x in faces]\n",
    "\n",
    "# define event B = \"4 observed in the second die\"\n",
    "B = [(x,4) for x in faces]\n",
    "\n",
    "# compute intersection of the two events\n",
    "AB = [x for x in A if x in B]\n",
    "\n",
    "# evaluate probabilities\n",
    "pA = len(A)/len(omega)\n",
    "pB = len(B)/len(omega)\n",
    "pAB = len(AB)/len(omega)\n",
    "\n",
    "# print results\n",
    "print(\"{:0.2f} * {:0.2f} = {:0.2f}\".format(pA,pB,pA*pB))\n",
    "print(\"pAB = {:0.2f}\".format(pAB))"
   ]
  },
  {
   "cell_type": "markdown",
   "metadata": {},
   "source": [
    "**Binomial distributions**\n",
    "\n",
    "Recall that variable $Y$ defined as \"the number of successes in a sequence of $n$ independent trials each with success probability equal to $p$\" is distributed according to a Binomial distribution with parameter $p$:\n",
    "\n",
    "$P(Y=k)={n \\choose k}p^k(1-p)^{n-k}$\n",
    "\n",
    "\n",
    "**Notation:**\n",
    "\n",
    "$B^A = \\{f:A\\rightarrow B\\}$\n",
    "\n",
    "$\\{0,1\\}^A = \\{f:A\\rightarrow \\{0,1\\}\\}\\sim$ set of all subsets of $A$\n",
    "\n",
    "$\\Omega=\\{1,2\\}$\n",
    "$2^{\\Omega} = \\{0,1\\}^{\\Omega}=\\{\\emptyset,\\Omega,\\{1\\},\\{2\\}\\}$\n",
    "\n",
    "**Observation:**\n",
    "Shuffling a binary observation the probability does not change:\n",
    "$P(0001111100) = P(0)^{\\#zeros}*P(1)^{\\#ones}$"
   ]
  },
  {
   "cell_type": "markdown",
   "metadata": {},
   "source": [
    "**Problem:** Verify experimentaly that the distribution of $Y$ is essentially the distribution of the sum of $n$ independent Bernoulli RVs with parameter $p$\n",
    "\n",
    "**Solution:** sample $m$ sequences of $n$ trials and build an histogram. Draw the probability distribution of $Y$ and observe that the histogram approximates it"
   ]
  },
  {
   "cell_type": "code",
   "execution_count": null,
   "metadata": {},
   "outputs": [],
   "source": [
    "p = 0.6   # success probability\n",
    "n = 100    # number of trials\n",
    "m = 10000 # number of sequences of trials\n",
    "\n",
    "# define value of P(Y=k) using the Binomial distribution\n",
    "P = [float(binom(n,k))*p ** k*(1-p) ** (n-k) for k in range(n+1)]\n",
    "\n",
    "# sample m sequences of n trials\n",
    "X = np.random.random((m,n))<=p\n",
    "\n",
    "# add trials row by row\n",
    "sumX = np.sum(X,axis=1)\n",
    "\n",
    "# draw curve (k,P(k)) and histogram of sumX values\n",
    "fig, ax = plt.subplots(1, 1)\n",
    "label = \"Binomial(n={},p={})\".format(n,p)\n",
    "ax.plot(range(len(P)), P, 'r-', lw=1, alpha=0.6, label=label)\n",
    "ax.hist(sumX, density=True, histtype='stepfilled', alpha=0.2)\n",
    "ax.legend(loc='best', frameon=False)\n",
    "plt.xlabel(\"number of successes in {} trials\".format(n))\n",
    "plt.ylabel(\"Probability\")\n",
    "plt.show()\n"
   ]
  },
  {
   "cell_type": "markdown",
   "metadata": {},
   "source": [
    "**Normal densities**\n",
    "\n",
    "Let $X\\sim N(0,1)$\n",
    "\n",
    "Thus, the probability density of $X$ is\n",
    "\n",
    "$N(0,1)(x)=\\frac{1}{\\sqrt{2\\pi}}e^{-\\frac{1}{2}x^2}$\n",
    "\n",
    "Let $A\\subseteq \\mathbf{R}$ be a measurable event. Then\n",
    "\n",
    "$\n",
    "P(X\\in A)=\\int_A N(0,1)(u)du\n",
    "$\n",
    "\n",
    "The probability that $X$ falls in set $(-\\infty,x]$ is sometimes called cumulative distribution function (cdf) and is denoted as $\\Phi(x)$. Thus\n",
    "\n",
    "$\\Phi(x)=P(X\\in (-\\infty,x])=P(X\\leq x)=\\int_{-\\infty}^x N(0,1)(u)du$\n",
    "\n",
    "**Problem:** plot $N(0,1)(x)$ between the percentile 0.1 and the percentile 99.9\n",
    "\n",
    "**Solution:** Build sequence $x$ of  100  equally spaced points on the x-axis in interval $[a,b]$ with $a=\\Phi^{-1}(0.001)$ and $b=\\Phi^{-1}(0.999)$ and then plot pairs $(x,N(0,1)(x))$"
   ]
  },
  {
   "cell_type": "code",
   "execution_count": null,
   "metadata": {},
   "outputs": [],
   "source": [
    "f=norm\n",
    "label = 'standard normal distribution'\n",
    "x = np.linspace(f.ppf(0.001), f.ppf(0.999), 100)\n",
    "x"
   ]
  },
  {
   "cell_type": "markdown",
   "metadata": {},
   "source": [
    "Plot standard normal density function $N(0,1)(x)$ as per solution"
   ]
  },
  {
   "cell_type": "code",
   "execution_count": null,
   "metadata": {},
   "outputs": [],
   "source": [
    "fig, ax = plt.subplots(1, 1)\n",
    "ax.plot(x, f.pdf(x), 'r-', lw=1, alpha=0.6, label=label)"
   ]
  },
  {
   "cell_type": "markdown",
   "metadata": {},
   "source": [
    "**Problem:** sample $n=1000$ points i.i.d., $x_i\\sim N(0,1)$, $i=1,2,\\ldots,n$, compute the histogram together with the density $N(0,1)(x)$"
   ]
  },
  {
   "cell_type": "code",
   "execution_count": null,
   "metadata": {},
   "outputs": [],
   "source": [
    "n = 1000\n",
    "r = f.rvs(size=n)\n",
    "r"
   ]
  },
  {
   "cell_type": "markdown",
   "metadata": {},
   "source": [
    "Compute histogram with the $n=1000$ sampled points and draw it along with $N(0,1)$"
   ]
  },
  {
   "cell_type": "code",
   "execution_count": null,
   "metadata": {
    "scrolled": true
   },
   "outputs": [],
   "source": [
    "fig, ax = plt.subplots(1, 1)\n",
    "ax.plot(x, f.pdf(x), 'r-', lw=1, alpha=0.6, label=label)\n",
    "ax.hist(r, density=True, histtype='stepfilled', alpha=0.2)\n",
    "ax.legend(loc='best', frameon=False)\n",
    "plt.show()"
   ]
  },
  {
   "cell_type": "markdown",
   "metadata": {},
   "source": [
    "**Problem:** Show experimentally that if $X\\sim N(0,1)$ then $\\sigma X+\\mu\\sim N(\\mu,\\sigma^2)$\n",
    "\n",
    "**Solution:** sample  $n=1000$  points i.i.d.,  $x_i\\sim N(0,1)$ ,  $i=1,2,…,n$ , rescale and translate each point, and compute the histogram together with the density  $N(\\mu,\\sigma^2)(x)$"
   ]
  },
  {
   "cell_type": "code",
   "execution_count": null,
   "metadata": {},
   "outputs": [],
   "source": [
    "mu = 5\n",
    "sigma = 4\n",
    "n = 1000\n",
    "f = norm\n",
    "r = f.rvs(size=n)    # sample n points from N(0,1)\n",
    "r = sigma * r + mu\n",
    "\n",
    "f = norm(loc=mu,scale=sigma)\n",
    "label = \"N({},{})\".format(mu,sigma*sigma)\n",
    "\n",
    "fig, ax = plt.subplots(1, 1)\n",
    "x = np.linspace(f.ppf(0.001), f.ppf(0.999), 100)\n",
    "ax.plot(x, f.pdf(x), 'r-', lw=1, alpha=0.6, label=label)\n",
    "ax.hist(r, density=True, histtype='stepfilled', alpha=0.2)\n",
    "ax.legend(loc='best', frameon=False)\n",
    "plt.show()"
   ]
  }
 ],
 "metadata": {
  "kernelspec": {
   "display_name": "Python 3",
   "language": "python",
   "name": "python3"
  },
  "language_info": {
   "codemirror_mode": {
    "name": "ipython",
    "version": 3
   },
   "file_extension": ".py",
   "mimetype": "text/x-python",
   "name": "python",
   "nbconvert_exporter": "python",
   "pygments_lexer": "ipython3",
   "version": "3.6.9"
  }
 },
 "nbformat": 4,
 "nbformat_minor": 2
}
