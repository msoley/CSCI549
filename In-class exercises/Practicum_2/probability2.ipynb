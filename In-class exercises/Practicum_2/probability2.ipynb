{
 "cells": [
  {
   "cell_type": "code",
   "execution_count": 2,
   "metadata": {},
   "outputs": [],
   "source": [
    "from matplotlib import pyplot as plt\n",
    "import matplotlib\n",
    "import numpy as np\n",
    "from scipy.stats import norm\n",
    "from scipy.stats import t\n",
    "from scipy.stats import chi2\n",
    "from scipy.special import binom\n",
    "import pylab as p\n",
    "import math"
   ]
  },
  {
   "cell_type": "markdown",
   "metadata": {},
   "source": [
    "**Problem:** in our class there are 77 students. Would you bet that there are at lest two students with the same birthday (day and month)? (assume you were all born in a non leap year)\n",
    "\n",
    "**Solution:** assume each student has equal chances to be born in any day of the year. Thus, there are $D=365^{77}$ possibilities. However, there are only $N=365\\cdot 364\\cdots (365-77+1)$ assignments of unique birthdays to the 77 students. Thus the probability that the students were all born in different days is $N/D$. Taking the complement event we obtain $1-N/D$.\n"
   ]
  },
  {
   "cell_type": "code",
   "execution_count": 3,
   "metadata": {},
   "outputs": [
    {
     "data": {
      "image/png": "[encoded data removed]",
      "text/plain": [
       "<Figure size 432x288 with 1 Axes>"
      ]
     },
     "metadata": {
      "needs_background": "light"
     },
     "output_type": "display_data"
    }
   ],
   "source": [
    "# number of days of the year (not a leap year)\n",
    "N = 365\n",
    "\n",
    "# array of number of students (from 1 to max=N)\n",
    "nn = range(1,N+1)\n",
    "\n",
    "# birthday probability vector\n",
    "p = []\n",
    "\n",
    "# number of pairs to plot\n",
    "m = 100\n",
    "\n",
    "for n in nn:\n",
    "    \n",
    "    # compute p = 1 - N/D for n students\n",
    "    num = range(n)\n",
    "    num = np.array([float(N-x) for x in num])\n",
    "    denom = np.array([float(N)]*n)\n",
    "    q = num/denom\n",
    "    p.append(1-np.prod(q))\n",
    "\n",
    "p = np.array(p)\n",
    "\n",
    "# find p^-1(0.5)\n",
    "i = np.nonzero((p > 0.48) & (p < 0.52))\n",
    "k05 = i[0][0]\n",
    "k = 76\n",
    "\n",
    "y = np.linspace(0.0, 1.1, 100)\n",
    "x1 = [k]*100\n",
    "x2 = [k05]*100\n",
    "\n",
    "# plot probability as a function of the number of the students\n",
    "fig, ax = plt.subplots(1, 1)\n",
    "label = \"p[{}] = {:0.3f}\\np[{}] = {:0.3f}\".format(k05+1,p[k05],k+1,p[k])\n",
    "ax.plot(nn[:m], p[:m], 'r-', lw=1, alpha=0.6, label=label)\n",
    "ax.plot(x1,y, 'b-', lw=1, alpha=0.6)\n",
    "ax.plot(x2,y, 'b-', lw=1, alpha=0.6)\n",
    "ax.legend(loc='best', frameon=False)\n",
    "plt.xlabel(\"number of students\")\n",
    "plt.ylabel(\"probability\")\n",
    "plt.show()\n"
   ]
  },
  {
   "cell_type": "markdown",
   "metadata": {},
   "source": [
    "**Probability Spaces**\n",
    "\n",
    "Consider the following probability space\n",
    "\n",
    "${\\cal P}=([0,1],{\\cal B},\\lambda)$ where\n",
    "\n",
    "1. ${\\cal B}$ is the smallest $\\sigma$-field that contains the intervals in $[0,1]$ (Borel $\\sigma$-algebra)\n",
    "\n",
    "2. $\\lambda:{\\cal B}\\rightarrow [0,1]$ is the only probability measure such that\n",
    "$P([a,b))=b-a$ (Lebesgue mesaure on ${\\cal B}$)\n",
    "\n",
    "This is the one-dimensional version of the experiment of shooting darts on a square of side one explained in the recorded lecture. Think of shooting darts using a collimator that ensures that the dart will always hit on the segment of length 1."
   ]
  },
  {
   "cell_type": "markdown",
   "metadata": {},
   "source": [
    "**Problem:** Let  𝐴=[0,1/2]⊆[0,1] . What is  𝜆(𝐴) ?\n",
    "\n",
    "**Solution:**  𝜆(𝐴)=1/2−0=1/2 \n"
   ]
  },
  {
   "cell_type": "code",
   "execution_count": null,
   "metadata": {},
   "outputs": [],
   "source": [
    "def P(I):\n",
    "    return I[1]-I[0]\n",
    "\n",
    "A=[0,1/4]\n",
    "\n",
    "P(A)\n",
    "\n"
   ]
  },
  {
   "cell_type": "markdown",
   "metadata": {},
   "source": [
    "**Problem:** Let us translate the interval by 1/4:  𝐵=[1/4,3/4] . What is  𝜆(𝐵) ?\n",
    "\n",
    "**Solution:**  𝜆(𝐵)=3/4−1/4=1/2 . Since the probability of an interval depends only on its length the probability of any interval is invariant under translation as long as the translated interval remains contained in  [0,1]"
   ]
  },
  {
   "cell_type": "code",
   "execution_count": null,
   "metadata": {},
   "outputs": [],
   "source": [
    "def P(I):\n",
    "    return I[1]-I[0]\n",
    "\n",
    "A=[0,1/4]\n",
    "\n",
    "B = [x+1/4 for x in A]\n",
    "\n",
    "P(B)\n"
   ]
  },
  {
   "cell_type": "markdown",
   "metadata": {},
   "source": [
    "**Indicator Random Variables**\n",
    "\n",
    "${\\cal P}=([0,1],{\\cal B},\\lambda)$\n",
    "\n",
    "Let $A=[0,1/2]$ and\n",
    "\n",
    "$X_A:[0,1]\\rightarrow \\{0,1\\}$ the RV defined as\n",
    "\n",
    "$X(\\omega)=1$ if and only if $\\omega\\in A$"
   ]
  },
  {
   "cell_type": "markdown",
   "metadata": {},
   "source": [
    "**Problem**: what is $P(X_A=1)$?\n",
    "\n",
    "**Solution**: $P(X_A=1)=P(\\{\\omega: X_A(\\omega)=1\\})=P(A)=1/2$"
   ]
  },
  {
   "cell_type": "markdown",
   "metadata": {},
   "source": [
    "**Problem**: Let $B=[0,p]$, $p\\leq 1$, what is $P(X_B=1)$?\n",
    "\n",
    "**Solution**: $P(X_B=1)=P(\\{\\omega: X_B(\\omega)=1\\})=P(B)=p$"
   ]
  },
  {
   "cell_type": "code",
   "execution_count": null,
   "metadata": {},
   "outputs": [],
   "source": [
    "def P(I):\n",
    "    return I[1]-I[0]\n",
    "\n",
    "p = 0.2\n",
    "\n",
    "I = [0,p]\n",
    "\n",
    "P(I)\n"
   ]
  },
  {
   "cell_type": "markdown",
   "metadata": {},
   "source": [
    "**Problem:** simulate the flipping of a coin with probability of Head equal to $p$ using a random number generator that samples uniformly at random a number in $[0,1]$\n",
    "\n",
    "**Solution:** This is equivalent to sampling an indicator RV for event $A=[0,p)$ of probability space ${\\cal P}$. Thus, sample a number from $[0,1]$ and return 1 if the number is smaller than or equal to $p$"
   ]
  },
  {
   "cell_type": "code",
   "execution_count": 15,
   "metadata": {},
   "outputs": [
    {
     "name": "stdout",
     "output_type": "stream",
     "text": [
      "0.7\n",
      "0.705\n",
      "0.711\n"
     ]
    }
   ],
   "source": [
    "p = 0.7\n",
    "I = [0.1,p+0.1]\n",
    "\n",
    "print(I[1]-I[0])\n",
    "\n",
    "# throw a dart 10000 times on a segment of length 1\n",
    "r = np.random.random(10000)\n",
    "\n",
    "# apply original indicator RV:\n",
    "x1 = r<=p\n",
    "x1 = [int(u) for u in x1]\n",
    "\n",
    "# apply new indicator RV:\n",
    "x2 = (r<=I[1]) & (r>=I[0])\n",
    "x2 = [int(u) for u in x2]\n",
    "\n",
    "print(np.sum(x1)/len(x1))\n",
    "print(np.sum(x2)/len(x2))"
   ]
  },
  {
   "cell_type": "code",
   "execution_count": null,
   "metadata": {},
   "outputs": [],
   "source": [
    "n = 1000\n",
    "p = 0.7\n",
    "\n",
    "r = np.random.random(n)<p\n",
    "\n",
    "r = [int(x) for x in r]\n",
    "\n",
    "sum(r)/len(r)"
   ]
  },
  {
   "cell_type": "markdown",
   "metadata": {},
   "source": [
    "**Independent Events**\n",
    "\n",
    "Consider the probability space for casting two perfect dice\n",
    "\n",
    "${\\cal D}=(\\Omega=\\{1,2,3,4,5,6\\}\\times \\{1,2,3,4,5,6\\},2^{\\Omega},P)$\n",
    "\n",
    "where $P$ is the unique extension to $2^{\\Omega}$ of that function that assigns 1/36 to each singleton $\\{(i,j)\\}$ for $i,j\\in \\{1,2,3,4,5,6\\}$\n",
    "\n",
    "Thus, for any $A\\in \\Omega$ it is $P(A)=|A|/|\\Omega|$"
   ]
  },
  {
   "cell_type": "markdown",
   "metadata": {},
   "source": [
    "**Problem:** show that the probability of having seeing pair 2,4 factors as the product of seeing 2 in the first die and 4 in the second\n",
    "\n",
    "**Solution:** define the events, evaluate the three probabilities, and verify the factoring property"
   ]
  },
  {
   "cell_type": "code",
   "execution_count": null,
   "metadata": {},
   "outputs": [],
   "source": [
    "faces = range(6)\n",
    "faces = [x+1 for x in faces]\n",
    "\n",
    "omega = [(x,y) for x in faces for y in faces]\n",
    "\n",
    "omega\n",
    "\n"
   ]
  },
  {
   "cell_type": "code",
   "execution_count": null,
   "metadata": {},
   "outputs": [],
   "source": [
    "# define event A = \"2 observed on the first die\"\n",
    "A = [(2,x) for x in faces]\n",
    "\n",
    "# define event B = \"4 observed in the second die\"\n",
    "B = [(x,4) for x in faces]\n",
    "\n",
    "# compute intersection of the two events\n",
    "AB = [x for x in A if x in B]\n",
    "\n",
    "# evaluate probabilities\n",
    "pA = len(A)/len(omega)\n",
    "pB = len(B)/len(omega)\n",
    "pAB = len(AB)/len(omega)\n",
    "\n",
    "# print results\n",
    "print(\"{} * {} = {}\".format(pA,pB,pA*pB))\n",
    "print(\"pAB = {}\".format(pAB))"
   ]
  },
  {
   "cell_type": "markdown",
   "metadata": {},
   "source": [
    "**Binomial distributions**\n",
    "\n",
    "Recall that variable $Y$ defined as \"the number of successes in a sequence of $n$ independent trials each with success probability equal to $p$\" is distributed according to a Binomial distribution with parameter $p$:\n",
    "\n",
    "$P(Y=k)={n \\choose k}p^k(1-p)^{n-k}$"
   ]
  },
  {
   "cell_type": "markdown",
   "metadata": {},
   "source": [
    "**Problem:** Verify experimentaly that the distribution of $Y$ is essentially the distribution of the sum of $n$ independent Bernoulli RVs with parameter $p$\n",
    "\n",
    "**Solution:** sample $m$ sequences of $n$ trials and build an histogram. Draw the probability distribution of $Y$ and observe that the histogram approximates it"
   ]
  },
  {
   "cell_type": "code",
   "execution_count": null,
   "metadata": {},
   "outputs": [],
   "source": [
    "p = 0.6   # success probability\n",
    "n = 10    # number of trials\n",
    "m = 10000 # number of sequences of trials\n",
    "\n",
    "# define value of P(Y=k) using the Binomial distribution\n",
    "P = [float(binom(n,k))*p ** k*(1-p) ** (n-k) for k in range(n+1)]\n",
    "\n",
    "# sample m sequences of n trials\n",
    "X = np.random.random((m,n))<=p\n",
    "\n",
    "# add trials row by row\n",
    "sumX = np.sum(X,axis=1)\n",
    "\n",
    "# draw curve (k,P(k)) and histogram of sumX values\n",
    "fig, ax = plt.subplots(1, 1)\n",
    "label = \"Binomial(n={},p={})\".format(n,p)\n",
    "ax.plot(range(len(P)), P, 'r-', lw=1, alpha=0.6, label=label)\n",
    "ax.hist(sumX, density=True, histtype='stepfilled', alpha=0.2)\n",
    "ax.legend(loc='best', frameon=False)\n",
    "plt.xlabel(\"number of successes in {} trials\".format(n))\n",
    "plt.ylabel(\"Probability\")\n",
    "plt.show()\n"
   ]
  },
  {
   "cell_type": "markdown",
   "metadata": {},
   "source": [
    "**Normal densities**\n",
    "\n",
    "Let $X\\sim N(0,1)$\n",
    "\n",
    "Thus, the probability density of $X$ is\n",
    "\n",
    "$N(0,1)(x)=\\frac{1}{\\sqrt{2\\pi}}e^{\\frac{1}{2}x^2}$\n",
    "\n",
    "Let $A\\subseteq \\mathbf{R}$ be a measurable event. Then\n",
    "\n",
    "$\n",
    "P(X\\in A)=\\int_A N(0,1)(u)du\n",
    "$\n",
    "\n",
    "The probability that $X$ falls in set $(\\infty,x]$ is sometimes called cumulative distribution function (cdf) and is denoted as $\\Phi(x)$. Thus\n",
    "\n",
    "$\\Phi(x)=P(X\\in (\\infty,x])=P(X\\leq x)=\\int_{-\\infty}^x N(0,1)(u)du$\n",
    "\n",
    "**Problem:** plot $N(0,1)(x)$ between the percentile 0.1 and the percentile 99.9\n",
    "\n",
    "**Solution:** Build sequence $x$ of  100  equally spaced points on the x-axis in interval $[a,b]$ with $a=\\Phi^{-1}(0.001)$ and $b=\\Phi^{-1}(0.999)$ and then plot pairs $(x,N(0,1)(x))$"
   ]
  },
  {
   "cell_type": "code",
   "execution_count": null,
   "metadata": {},
   "outputs": [],
   "source": [
    "f=norm\n",
    "label = 'standard normal distribution'\n",
    "x = np.linspace(f.ppf(0.001), f.ppf(0.999), 100)\n",
    "x"
   ]
  },
  {
   "cell_type": "markdown",
   "metadata": {},
   "source": [
    "Plot standard normal density function $N(0,1)(x)$ as per solution"
   ]
  },
  {
   "cell_type": "code",
   "execution_count": null,
   "metadata": {},
   "outputs": [],
   "source": [
    "fig, ax = plt.subplots(1, 1)\n",
    "ax.plot(x, f.pdf(x), 'r-', lw=1, alpha=0.6, label=label)"
   ]
  },
  {
   "cell_type": "markdown",
   "metadata": {},
   "source": [
    "**Problem:** sample $n=1000$ points i.i.d., $x_i\\sim N(0,1)$, $i=1,2,\\ldots,n$, compute the histogram together with the density $N(0,1)(x)$"
   ]
  },
  {
   "cell_type": "code",
   "execution_count": null,
   "metadata": {},
   "outputs": [],
   "source": [
    "n = 1000\n",
    "r = f.rvs(size=n)\n",
    "r"
   ]
  },
  {
   "cell_type": "markdown",
   "metadata": {},
   "source": [
    "Compute histogram with the $n=1000$ sampled points and draw it along with $N(0,1)$"
   ]
  },
  {
   "cell_type": "code",
   "execution_count": null,
   "metadata": {},
   "outputs": [],
   "source": [
    "fig, ax = plt.subplots(1, 1)\n",
    "ax.plot(x, f.pdf(x), 'r-', lw=1, alpha=0.6, label=label)\n",
    "ax.hist(r, density=True, histtype='stepfilled', alpha=0.2)\n",
    "ax.legend(loc='best', frameon=False)\n",
    "plt.show()"
   ]
  },
  {
   "cell_type": "markdown",
   "metadata": {},
   "source": [
    "**Problem:** Show experimentally that if $X\\sim N(0,1)$ then $\\sigma X+\\mu\\sim N(\\mu,\\sigma^2)$\n",
    "\n",
    "**Solution:** sample  $n=1000$  points i.i.d.,  $x_i\\sim N(0,1)$ ,  $i=1,2,…,n$ , rescale and translate each point, and compute the histogram together with the density  $N(\\mu,\\sigma^2)(x)$"
   ]
  },
  {
   "cell_type": "code",
   "execution_count": null,
   "metadata": {},
   "outputs": [],
   "source": [
    "mu = 5\n",
    "sigma = 4\n",
    "n = 1000\n",
    "f = norm\n",
    "r = f.rvs(size=n)    # sample n points from N(0,1)\n",
    "r = sigma * r + mu\n",
    "\n",
    "f = norm(loc=mu,scale=sigma)\n",
    "label = \"N({},{})\".format(mu,sigma*sigma)\n",
    "\n",
    "fig, ax = plt.subplots(1, 1)\n",
    "x = np.linspace(f.ppf(0.001), f.ppf(0.999), 100)\n",
    "ax.plot(x, f.pdf(x), 'r-', lw=1, alpha=0.6, label=label)\n",
    "ax.hist(r, density=True, histtype='stepfilled', alpha=0.2)\n",
    "ax.legend(loc='best', frameon=False)\n",
    "plt.show()\n",
    "\n"
   ]
  },
  {
   "cell_type": "markdown",
   "metadata": {},
   "source": [
    "**Problem:** Verify that if $X_i\\sim N(\\mu,\\sigma^2)$ then the distribution of the sample mean $\\overline{X}_n=\\frac{1}{n}\\sum_{i=1}^n X_i$ is $N(\\mu,\\sigma^2/n)$\n",
    "\n",
    "**Solution:** sample $m$ sequences of $n$ elements from $N(\\mu,\\sigma^2)$, compute $m$ sample means, compute the histogram and plot it along with $N(\\mu,\\sigma^2/n)$\n",
    "\n",
    "Note that the distribution of the sample mean is much narrower. In fact how narrow it is depends on the size $n$ of each sequence"
   ]
  },
  {
   "cell_type": "code",
   "execution_count": null,
   "metadata": {},
   "outputs": [],
   "source": [
    "def plot_curve_and_histo(f,r=[], label=\"\",c='r-'):\n",
    "    x = np.linspace(f.ppf(0.001), f.ppf(0.999), 100)\n",
    "    ax.plot(x, f.pdf(x), c, lw=1, alpha=0.6, label=label)\n",
    "    if len(r) > 0:\n",
    "        ax.hist(r, density=True, histtype='stepfilled', alpha=0.2)\n",
    "    ax.legend(loc='best', frameon=False)\n",
    "    \n",
    "mu = 5\n",
    "sigma = 4\n",
    "\n",
    "n = 10     # number of sample means\n",
    "m = 1000   # number of points used in each sample mean\n",
    "\n",
    "f = norm\n",
    "r = f.rvs(size=(m,n))\n",
    "r = sigma * r + mu\n",
    "          \n",
    "sample_means = np.mean(r,axis=1)\n",
    "\n",
    "f = norm(loc=mu,scale=sigma/np.sqrt(n))\n",
    "label = \"means ~ N({},{})\".format(mu,sigma*sigma/n)\n",
    "\n",
    "fig, ax = plt.subplots(1, 1)\n",
    "\n",
    "plot_curve_and_histo(f,sample_means,label)\n",
    "\n",
    "label_original = \"X ~ N({},{})\".format(mu,sigma*sigma)\n",
    "plot_curve_and_histo(norm(loc=mu,scale=sigma),[],label_original, 'b-')\n",
    "plt.show()\n"
   ]
  },
  {
   "cell_type": "markdown",
   "metadata": {},
   "source": [
    "**Problem:** draw $\\Phi(x)=P(X\\leq x)$ for $X\\sim N(0,1)$"
   ]
  },
  {
   "cell_type": "code",
   "execution_count": null,
   "metadata": {},
   "outputs": [],
   "source": [
    "def plot_curve_and_histo(f,r=[], label=\"\",c='r-'):\n",
    "    x = np.linspace(f.ppf(0.001), f.ppf(0.999), 100)\n",
    "    ax.plot(x, f.cdf(x), c, lw=1, alpha=0.6, label=label)\n",
    "    if len(r) > 0:\n",
    "        ax.hist(r, density=True, histtype='stepfilled', alpha=0.2)\n",
    "    ax.legend(loc='best', frameon=False)\n",
    "    \n",
    "f = norm()\n",
    "fig, ax = plt.subplots(1, 1)\n",
    "plot_curve_and_histo(f,[],\"Phi\")\n",
    "plt.show()"
   ]
  },
  {
   "cell_type": "markdown",
   "metadata": {},
   "source": [
    "**Universal Transformation of Probability**\n",
    "\n",
    "Let $X$ be an arbitrary RV. Then $F_X(x)=P(X\\leq x)$ is a monotone nondecreasing function (invertible). Since $X$ is a RV then $Y=F_X(X)$ is also a RV.\n",
    "\n",
    "What is the distribution of $Y$?\n",
    "\n",
    "$P(Y\\leq y)=P(F_X(X)\\leq y)=P(X\\leq F_X^{-1}(y))=F_X(F_X^{-1}(y))=y$\n",
    "\n",
    "This is the cdf of the uniform density on $[0,1]$ (we can find that through differentiation of $P(Y\\leq y)$ with respect to $y$).\n",
    "\n",
    "Thus, $Y\\sim U[0,1]$: uniform on interval $[0,1]$\n",
    "\n",
    "**Problem:** Sample from $N(0,1)$ using a random number generator that samples uniformly at random from interval $[0,1]$\n",
    "\n",
    "**Solution:** Use the Universal transformation of probability: sample $X\\sim U(0,1)$. Then return $\\Phi^{-1}(x)$"
   ]
  },
  {
   "cell_type": "code",
   "execution_count": null,
   "metadata": {},
   "outputs": [],
   "source": [
    "def plot_curve_and_histo(f,r=[], label=\"\",c='r-'):\n",
    "    x = np.linspace(f.ppf(0.001), f.ppf(0.999), 100)\n",
    "    ax.plot(x, f.pdf(x), c, lw=1, alpha=0.6, label=label)\n",
    "    if len(r) > 0:\n",
    "        ax.hist(r, density=True, histtype='stepfilled', alpha=0.2)\n",
    "    ax.legend(loc='best', frameon=False)\n",
    "\n",
    "n = 1000\n",
    "mu = 2\n",
    "sigma = 5\n",
    "\n",
    "# Sample n points x_1, x_2, \\ldots, x_n unformly at random from [0,1]\n",
    "x = np.random.random(n)\n",
    "\n",
    "# Find inverse images wrt Phi\n",
    "f = norm(loc=mu,scale=sigma)\n",
    "y = f.ppf(x)\n",
    "\n",
    "# plot gaussian N(mu,sigma^2) and histogram of y\n",
    "fig, ax = plt.subplots(1, 1)\n",
    "plot_curve_and_histo(f,y,\"N({},{})\".format(mu,sigma**2))\n",
    "plt.show()\n"
   ]
  },
  {
   "cell_type": "markdown",
   "metadata": {},
   "source": [
    "**Central Limit Theorem**\n",
    "\n",
    "Recall from the lectures that given a sequence of iid RVs with mean $\\mu$ and variance $\\sigma^2$ it holds that\n",
    "\n",
    "$\\lim_{n\\rightarrow\\infty} \\frac{1}{n}\\sum_{i=1}^n X_i \\sim N(\\mu,\\sigma^2/n)$\n",
    "\n",
    "**Problem:** verify experimentally how the CLT performs on the sample mean of uniform RVs for $n=10$\n",
    "\n",
    "**Solution:** observe that if $X\\sim U[0,1]$ then $E[X]=1/2$ and $var[X]=E[X^2]-E[X]^2=1/3-1/4=1/12$. Then sample $m$ sequences of $n$ trials and draw the histogram of the corresponding sample means along with the graph of $N(1/2,1/(n*144))$"
   ]
  },
  {
   "cell_type": "code",
   "execution_count": null,
   "metadata": {},
   "outputs": [],
   "source": [
    "def plot_curve_and_histo(f,r=[], label=\"\",c='r-'):\n",
    "    x = np.linspace(f.ppf(0.001), f.ppf(0.999), 100)\n",
    "    ax.plot(x, f.pdf(x), c, lw=1, alpha=0.6, label=label)\n",
    "    if len(r) > 0:\n",
    "        ax.hist(r, density=True, histtype='stepfilled', alpha=0.2)\n",
    "    ax.legend(loc='best', frameon=False)\n",
    "    \n",
    "\n",
    "n = 10\n",
    "m = 1000\n",
    "\n",
    "mu = 1/2\n",
    "sigma = np.sqrt(1/12)/np.sqrt(n)\n",
    "\n",
    "f = norm(loc=mu,scale=sigma)\n",
    "\n",
    "(mean_f, variance_f) = f.stats('mv')\n",
    "print(\"mean = {} variance = {}\".format(mean_f,variance_f))\n",
    "      \n",
    "r = np.random.random((m,n))\n",
    "sample_means = np.mean(r,axis=1)\n",
    "\n",
    "fig, ax = plt.subplots(1, 1)\n",
    "\n",
    "label = \"X ~ N({},{:0.3f})\".format(mu,sigma*sigma)\n",
    "plot_curve_and_histo(f,sample_means,label)\n",
    "plt.show()\n",
    "\n"
   ]
  },
  {
   "cell_type": "markdown",
   "metadata": {},
   "source": [
    "**Linear Correlation and Dependence**\n",
    "\n",
    "The Pearson correlation coefficient between two RVs $X$ and $Y$ is defined as\n",
    "\n",
    "$r=\\frac{E[(X-\\mu_X)(Y-\\mu_Y)]}{E[(X-\\mu_X)^2]^{1/2}E[(Y-\\mu_Y)^2]^{1/2}}$\n",
    "\n",
    "**Problem:** Let $X\\sim N(0,1)$ and $Y=\\alpha X$, estimate $corr(X,Y)$\n",
    "\n",
    "**Solution:** replace expectations with sample means"
   ]
  },
  {
   "cell_type": "code",
   "execution_count": null,
   "metadata": {},
   "outputs": [],
   "source": [
    "def corr(x,y):\n",
    "    x = x - np.mean(x)\n",
    "    y = y - np.mean(y)\n",
    "    return np.sum(x * y) / (np.sqrt(np.sum(x*x))*np.sqrt(np.sum(y*y)))\n",
    "    \n",
    "n = 1000\n",
    "alpha = 10\n",
    "\n",
    "x = norm.rvs(size=n)\n",
    "y = alpha * x\n",
    "\n",
    "# compute correlation coefficient\n",
    "r = corr(x,y)\n",
    "print(\"corr(X,Y) = {:0.2f}\".format(r))\n",
    "\n",
    "fig, ax = plt.subplots(1, 1)\n",
    "ax.plot(x, y, 'r-', lw=1, alpha=0.6, label=\"y={:0.0f}*x, x~N(0,1)\".format(alpha))\n",
    "ax.legend(loc='best', frameon=False)\n",
    "plt.show()\n",
    "\n"
   ]
  },
  {
   "cell_type": "markdown",
   "metadata": {},
   "source": [
    "**Problem:** Let $X\\sim N(0,1)$ and $Y=X^2$, estimate $corr(X,Y)$\n",
    "\n",
    "**Solution:** replace expectations with sample means"
   ]
  },
  {
   "cell_type": "code",
   "execution_count": null,
   "metadata": {},
   "outputs": [],
   "source": [
    "def corr(x,y):\n",
    "    x = x - np.mean(x)\n",
    "    y = y - np.mean(y)\n",
    "    return np.sum(x * y) / (np.sqrt(np.sum(x*x))*np.sqrt(np.sum(y*y)))\n",
    "    \n",
    "n = 1000\n",
    "alpha = 10\n",
    "\n",
    "x = norm.rvs(size=n)\n",
    "y = x ** 2\n",
    "\n",
    "r = corr(x,y)\n",
    "print(\"corr(X,Y) = {:0.3f}\".format(r))\n",
    "\n",
    "fig, ax = plt.subplots(1, 1)\n",
    "ax.plot(x, y, 'r-', lw=1, alpha=0.6, label=\"corr(X,X^2)\")\n",
    "ax.legend(loc='best', frameon=False)\n",
    "plt.show()"
   ]
  },
  {
   "cell_type": "markdown",
   "metadata": {},
   "source": [
    "**$\\chi^2$** distribution"
   ]
  },
  {
   "cell_type": "code",
   "execution_count": null,
   "metadata": {},
   "outputs": [],
   "source": [
    "df = [1,2,3,4,5,6,7]\n",
    "c = ['r-','b-','g-','y-','c-','m-','k-']\n",
    "p = zip(df,c)\n",
    "\n",
    "x = np.arange(0, 8, 0.001)\n",
    "\n",
    "fig, ax = plt.subplots(1, 1)\n",
    "for (k,c) in p:\n",
    "    if k == 1:\n",
    "        xx = x[100:]\n",
    "    else:\n",
    "        xx = x\n",
    "    ax.plot(xx, chi2.pdf(xx,df=k), c, lw=1, alpha=0.6, label = \"k={}\".format(k))\n",
    "    ax.legend(loc='best', frameon=False)\n",
    "plt.show()"
   ]
  },
  {
   "cell_type": "markdown",
   "metadata": {},
   "source": [
    "**Problem:** Given a sequence of independent standard normal RVs $X_1,X_2,\\ldots,X_n$ the sum of their squares is distributed according to a $\\chi^2_n$"
   ]
  },
  {
   "cell_type": "code",
   "execution_count": null,
   "metadata": {},
   "outputs": [],
   "source": [
    "m = 1000\n",
    "n = 7\n",
    "k = n\n",
    "x = np.arange(0, 17, 0.001)\n",
    "\n",
    "y = norm.rvs(size=(m,n))\n",
    "y = y ** 2\n",
    "\n",
    "s = np.sum(y,axis=1)\n",
    "\n",
    "fig, ax = plt.subplots(1, 1)\n",
    "ax.plot(x, chi2.pdf(x,df=k), c, lw=1, alpha=0.6, label = \"chi^2({})\".format(k))\n",
    "ax.hist(s, density=True, histtype='stepfilled', alpha=0.2)\n",
    "ax.legend(loc='best', frameon=False)\n",
    "plt.show()"
   ]
  },
  {
   "cell_type": "markdown",
   "metadata": {},
   "source": [
    "**Problem:** Given a sequence of $n$ independent normal RVs, with $X_i\\sim N(\\mu,1)$ show experimentally that the sum of the squares of the centered variables is distributed according to a  $\\chi^2(n-1)$\n",
    "\n",
    "Observe that, for $n=2$, $X_1-(X_1+X_2)/2=-(X_2+(X_1+X_2)/2)$. Thus, the two centered variables are not indepedent. This explains why the numeber of degrees of freedom decreases by 1"
   ]
  },
  {
   "cell_type": "code",
   "execution_count": null,
   "metadata": {},
   "outputs": [],
   "source": [
    "m = 10000\n",
    "n = 7\n",
    "k = n-1\n",
    "mu = 2\n",
    "sigma = 1\n",
    "\n",
    "x = np.arange(0, 17, 0.001)\n",
    "\n",
    "y = norm.rvs(size=(m,n), loc=mu, scale=sigma)\n",
    "y = y - np.mean(y,axis=1)[np.newaxis].transpose()\n",
    "y = y ** 2\n",
    "\n",
    "s = np.sum(y,axis=1)\n",
    "\n",
    "fig, ax = plt.subplots(1, 1)\n",
    "ax.plot(x, chi2.pdf(x,df=k), c, lw=1, alpha=0.6, label = \"chi^2({})\".format(k))\n",
    "ax.hist(s, density=True, histtype='stepfilled', alpha=0.2)\n",
    "ax.legend(loc='best', frameon=False)\n",
    "plt.show()"
   ]
  },
  {
   "cell_type": "markdown",
   "metadata": {},
   "source": [
    "**t-distribution**"
   ]
  },
  {
   "cell_type": "code",
   "execution_count": null,
   "metadata": {
    "scrolled": true
   },
   "outputs": [],
   "source": [
    "df = [1,2,3,4,5,6,7]\n",
    "c = ['r-','b-','g-','y-','c-','m-','k']\n",
    "p = zip(df,c)\n",
    "\n",
    "x = np.arange(-5, 5, 0.001)\n",
    "\n",
    "fig, ax = plt.subplots(1, 1)\n",
    "for (k,c) in p:\n",
    "    ax.plot(x, t.pdf(x,df=k), c, lw=1, alpha=0.6, label = \"k={}\".format(k))\n",
    "    ax.legend(loc='best', frameon=False)\n",
    "plt.show()"
   ]
  },
  {
   "cell_type": "markdown",
   "metadata": {},
   "source": [
    "**Significance Tests**\n",
    "\n",
    "Consider a sequence of samples $X_1,X_2,\\ldots,X_n$ with $X_i\\sim N(5,4)$.\n",
    "\n",
    "Assume that $\\sigma^2=4$ and run the following test at 95% significance level with $n=10$:\n",
    "\n",
    "$H_0$: $\\mu=3.8$\n",
    "\n",
    "$H_1$: $\\mu>3.8$\n",
    "\n"
   ]
  },
  {
   "cell_type": "code",
   "execution_count": null,
   "metadata": {},
   "outputs": [],
   "source": [
    "n = 10\n",
    "alpha = 0.05\n",
    "mu = 5\n",
    "mu_0 = 3.8\n",
    "sigma_sq = 4\n",
    "sigma = np.sqrt(sigma_sq)\n",
    "\n",
    "def z_score(x,mu,s):\n",
    "    sample_mean = sum(x)/len(x)\n",
    "    return (sample_mean - mu)/(s/np.sqrt(len(x)))\n",
    "\n",
    "# sample data\n",
    "x = norm.rvs(size = n, loc=mu, scale = sigma)\n",
    "\n",
    "z = z_score(x,mu_0,sigma)\n",
    "\n",
    "p_value = 1-norm.cdf(z)\n",
    "\n",
    "print(p_value)\n",
    "\n",
    "if p_value < alpha:\n",
    "    print(\"Reject H0\")\n",
    "else:\n",
    "    print(\"Fail to Reject H0\")\n"
   ]
  },
  {
   "cell_type": "markdown",
   "metadata": {},
   "source": [
    "Consider the following Binary Classification Problem\n",
    "\n",
    "**Input:** sequence $x_1,x_2,\\ldots,x_n$ of real numbers sampled iid according to a Normal RV $X\\sim N(\\mu_1,\\sigma_1^2)$\n",
    "\n",
    "**Output:** H0 or H1, where\n",
    "\n",
    "$H_0$: $\\mu=\\mu_0$, $\\sigma=\\sigma_1$\n",
    "\n",
    "$H_1$: $\\mu=\\mu_1$, $\\sigma=\\sigma_1$\n",
    "\n",
    "**Problem:** Estimate the *receiver operating characteristic curve* (ROC) curve of the maximum likelihood classifier using synthetic testing (labeled) data generated according to H0 and H1\n",
    "\n",
    "Observe the analogy with Neyman-Pearson Hypothesis Testing"
   ]
  },
  {
   "cell_type": "code",
   "execution_count": null,
   "metadata": {},
   "outputs": [],
   "source": [
    "n = 100\n",
    "\n",
    "# True model\n",
    "mu = 1.1\n",
    "#mu = 1.5\n",
    "sigma_sq = 1\n",
    "sigma = np.sqrt(sigma_sq)\n",
    "\n",
    "# H0 model\n",
    "mu_0 = 1\n",
    "sigma_0 = sigma\n",
    "\n",
    "# H1 model is the right model\n",
    "mu_1 = mu\n",
    "sigma_1 = sigma\n",
    "\n",
    "# false positive and false negatives\n",
    "fpr_list = []\n",
    "fnr_list = []\n",
    "tpr_list = []\n",
    "tnr_list = []\n",
    "\n",
    "m = 1000\n",
    "\n",
    "deltas = np.linspace(0.01,19.99,100)\n",
    "\n",
    "# build synthetic testing data\n",
    "\n",
    "# sample from correct distribution\n",
    "x_1 = norm.rvs(size = (m,n), loc=mu, scale = sigma)\n",
    "\n",
    "# sample from wrong distribution\n",
    "x_0 = norm.rvs(size = (m,n), loc=mu_0, scale = sigma_0)\n",
    "\n",
    "# Build table of labeled samples\n",
    "x = np.r_[x_0,x_1]\n",
    "y = np.zeros(2*m)\n",
    "y[m:]=1\n",
    "\n",
    "for i in range(len(deltas)):\n",
    "    \n",
    "    delta = deltas[i]\n",
    "    \n",
    "    # computes log likelihoods of each sample given H0 and then given H1\n",
    "    log_likelihood0 = np.sum(norm.logpdf(x,loc=mu_0,scale=sigma_0), axis = 1)\n",
    "    log_likelihood1 = np.sum(norm.logpdf(x,loc=mu_1,scale=sigma_1), axis = 1)\n",
    "    result = log_likelihood1 >= math.log(1/delta) + log_likelihood0\n",
    "    \n",
    "    # measure error rates\n",
    "    \n",
    "    # True positive rate\n",
    "    tpr = sum((result == 1) & (y == 1))/sum(y == 1)\n",
    "    \n",
    "    # True negative rate\n",
    "    tnr = sum((result == 0) & (y == 0))/sum(y == 0)\n",
    "    \n",
    "    # False positive rate: P(H_1 accepted |H_0 was correct) = P( Type I error )\n",
    "    fpr = 1-tnr\n",
    "    \n",
    "    # False negative rate P(H_0 accepted | H_0 was false) = P( Type II error)\n",
    "    fnr = 1-tpr\n",
    "    \n",
    "    fpr_list.append(fpr)\n",
    "    fnr_list.append(fnr)\n",
    "    tpr_list.append(tpr)\n",
    "    tnr_list.append(tnr)\n",
    "\n",
    "# plot fp vs fn\n",
    "fig, ax = plt.subplots(1, 1)\n",
    "ax.plot(fpr_list,tpr_list, 'r-', lw=1, alpha=0.6, label='ROC Curve')\n",
    "ax.set_ylim(0, 1)\n",
    "ax.set_xlim(0, 1)\n",
    "#ax.annotate('ROC', xy=(0.9, 0.9))\n",
    "plt.xlabel(\"FPR\")\n",
    "plt.ylabel(\"TPR\")\n",
    "ax.legend(loc='best', frameon=False)\n",
    "plt.show()\n",
    "\n",
    "\n",
    "    "
   ]
  },
  {
   "cell_type": "markdown",
   "metadata": {},
   "source": [
    "**Problem:** Simulate the hypothetical experimental study about the promotions approached with a nonparametric test"
   ]
  },
  {
   "cell_type": "code",
   "execution_count": null,
   "metadata": {},
   "outputs": [],
   "source": [
    "import random\n",
    "\n",
    "def partition(list_in,n):\n",
    "    random.shuffle(list_in)\n",
    "    return [list_in[i::n] for i in range(n)]\n",
    "\n",
    "# create deck card\n",
    "n_p = ['NP']*35\n",
    "p = ['P']*13\n",
    "tot = n_p + p\n",
    "\n",
    "# drawing simulation\n",
    "nsim = 10000\n",
    "diff_prom = []\n",
    "\n",
    "for i in np.arange(1,nsim,1):\n",
    "    men, women = partition(tot, 2)\n",
    "    men_p = men.count('P')/24\n",
    "    women_p = women.count('P')/24\n",
    "    diff_prom.append(men_p-women_p)\n",
    "    \n",
    "# Make the plot\n",
    "plt.hist(diff_prom)\n",
    "\n",
    "# p-value\n",
    "p_value = np.size(np.where(np.array(diff_prom)>0.3))/np.size(diff_prom)\n",
    "\n",
    "print(\"p-value({}) = {:0.5f}\".format(0.3,p_value))"
   ]
  }
 ],
 "metadata": {
  "kernelspec": {
   "display_name": "Python 3",
   "language": "python",
   "name": "python3"
  },
  "language_info": {
   "codemirror_mode": {
    "name": "ipython",
    "version": 3
   },
   "file_extension": ".py",
   "mimetype": "text/x-python",
   "name": "python",
   "nbconvert_exporter": "python",
   "pygments_lexer": "ipython3",
   "version": "3.6.9"
  }
 },
 "nbformat": 4,
 "nbformat_minor": 2
}
