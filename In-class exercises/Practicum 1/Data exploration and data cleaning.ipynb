{
 "cells": [
  {
   "cell_type": "markdown",
   "metadata": {},
   "source": [
    "# Data exploration and data cleaning\n",
    "\n",
    "This notebook walks through a simple data exploration/data cleaning exercise. It uses generated data meant to represent traffic at a particular intersection. The data contains the number of vehicles that pass through that intersection on a given day. \n",
    "\n",
    "**Problem statement**\n",
    "\n",
    "A new bar opened across the street and is very popular on Friday and Saturday nights. Residents complain that they can't find parking on these days and this is due to the bar's activity. The bar owners argue that traffic has just increased recently and it's not related to the bar activity.\n",
    "\n",
    "You offer to conduct an analysis to figure out if traffic is indeed heavier on Friday and Staurday nigths compared to the rest of the days. You are given one year of daily vehicle traffic for the intersection where the bar is located.\n",
    "\n",
    "## Import data\n",
    "The data can be seen at: https://raw.githubusercontent.com/msoley/CSCI549/master/In-class%20exercises/Practicum%201/traffic_data.csv\n",
    "\n",
    "**Question**: Which type of data is it?\n",
    "\n",
    "**Answer**: Time series data (tabular).\n",
    "\n",
    "First, download the data locally. You can do this by using `!wget` command. The `!` signals that you are using a bash command. In this case, the command is `wget` which allows you to fetch data on the web."
   ]
  },
  {
   "cell_type": "code",
   "execution_count": null,
   "metadata": {},
   "outputs": [],
   "source": [
    "!wget https://raw.githubusercontent.com/msoley/CSCI549/master/In-class%20exercises/Practicum%201/traffic_data.csv"
   ]
  },
  {
   "cell_type": "markdown",
   "metadata": {},
   "source": [
    "Let's import the data and plot it"
   ]
  },
  {
   "cell_type": "code",
   "execution_count": null,
   "metadata": {},
   "outputs": [],
   "source": [
    "import pandas as pd\n",
    "ds=pd.read_csv('traffic_data.csv',index_col=0)\n",
    "ds"
   ]
  },
  {
   "cell_type": "code",
   "execution_count": null,
   "metadata": {},
   "outputs": [],
   "source": [
    "ds.plot()"
   ]
  },
  {
   "cell_type": "markdown",
   "metadata": {},
   "source": [
    "There are large values (999) sparsely occuring in the dataset. \n",
    "\n",
    "Is it real? Probably not. Could be a problem with the instrument or it could be the way that missing values were flag. When outlier values repeat in a dataset, it's a good indication that it is being used a missing value flag.\n",
    "\n",
    "Let's remove them and replot:"
   ]
  },
  {
   "cell_type": "code",
   "execution_count": null,
   "metadata": {},
   "outputs": [],
   "source": [
    "ds_missing = ds[ds['0'] < 900]\n",
    "ds_missing.plot()"
   ]
  },
  {
   "cell_type": "markdown",
   "metadata": {},
   "source": [
    "Better! However, some of the values appear to be negative. Is this possible? No, since we're counting vehicles, it can't be negative. Can be a glitch or some other problems. Let's remove these values for now."
   ]
  },
  {
   "cell_type": "code",
   "execution_count": null,
   "metadata": {},
   "outputs": [],
   "source": [
    "ds_outlier = ds_missing[ds_missing['0']>=0]\n",
    "ds_outlier.plot()"
   ]
  },
  {
   "cell_type": "markdown",
   "metadata": {},
   "source": [
    "Should we remove anything else? \n",
    "\n",
    "Right now, there are no good reasons to do so."
   ]
  }
 ],
 "metadata": {
  "kernelspec": {
   "display_name": "Python 3",
   "language": "python",
   "name": "python3"
  },
  "language_info": {
   "codemirror_mode": {
    "name": "ipython",
    "version": 3
   },
   "file_extension": ".py",
   "mimetype": "text/x-python",
   "name": "python",
   "nbconvert_exporter": "python",
   "pygments_lexer": "ipython3",
   "version": "3.7.6"
  }
 },
 "nbformat": 4,
 "nbformat_minor": 4
}
