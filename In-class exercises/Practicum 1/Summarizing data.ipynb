{
 "cells": [
  {
   "cell_type": "markdown",
   "metadata": {},
   "source": [
    "# Data exploration: Summary Statistics\n",
    "\n",
    "This notebook shows examples of how to summarize and visualize data. It generates a few statistical characteristics of the data (e.g., max, min, median, etc) and a visualization.\n",
    "\n",
    "For those of you interested in the code, it uses predefined functions from the numpy library to store data and Python's matplotlib library to generate a plot.\n",
    "\n",
    "Run the cell below to load the definitions of two functions. The function \"display_summary_statistics\" takes a list of numbers as its argument and displays the min, 1st quartile, median, 3rd quartile and max of these numbers. The function \"plot_5_summary\" takes a list of numebrs as its arguments and generates a boxplot for these numbers."
   ]
  },
  {
   "cell_type": "code",
   "execution_count": null,
   "metadata": {},
   "outputs": [],
   "source": [
    "from numpy import *\n",
    "def display_summary_statistics(numbers):\n",
    "      Min=percentile(numbers,0)\n",
    "      Q1=percentile(numbers,25)\n",
    "      Median=percentile(numbers,50)\n",
    "      Q3=percentile(numbers,75)\n",
    "      Max=percentile(numbers,100)\n",
    "      return Min,Q1,Median,Q3,Max\n",
    "\n",
    "def plot_5_summary(numbers):\n",
    "      import matplotlib.pyplot as plt\n",
    "      plt.boxplot(numbers)\n",
    "      plt.show()\n",
    "      plt.close('all')\n"
   ]
  },
  {
   "cell_type": "markdown",
   "metadata": {},
   "source": [
    "The following code read the traffic data from the repository and loads it into a pandas dataframe"
   ]
  },
  {
   "cell_type": "code",
   "execution_count": null,
   "metadata": {},
   "outputs": [],
   "source": [
    "!wget https://raw.githubusercontent.com/msoley/CSCI549/master/In-class%20exercises/Practicum%201/traffic_data.csv\n",
    "\n",
    "import pandas as pd\n",
    "ds=pd.read_csv('traffic_data.csv',index_col=0)"
   ]
  },
  {
   "cell_type": "markdown",
   "metadata": {},
   "source": [
    "## Generating Summary Statistics for a Dataset\n",
    "\n",
    "Run the cell below. After processing, the cell will output five summary statistics for your data from the csv file: max, min, median, Q1 and Q3.\n",
    "\n",
    "* The max represents the maximum value in the data.\n",
    "* The min represents the minimum value in the data.\n",
    "* The median is the value separating the higher 50% from the lower 50% of a data sample. \n",
    "* Q1 (1st quartile) is the value separating the higher 75% from the lower 25% of a data sample. \n",
    "* Q3 (3rd quartile) is the value separating the higher 25% from the lower 75% of a data sample."
   ]
  },
  {
   "cell_type": "code",
   "execution_count": null,
   "metadata": {},
   "outputs": [],
   "source": [
    "Min,Q1,Median,Q3,Max=display_summary_statistics(ds[\"0\"].values)\n",
    "print('Min:',Min)\n",
    "print('Q1:', Q1)\n",
    "print('Median:',Median)\n",
    "print('Q3:',Q3)\n",
    "print('Max:',Max)"
   ]
  },
  {
   "cell_type": "markdown",
   "metadata": {},
   "source": [
    "## Generating a Plot¶\n",
    "\n",
    "Run the cell below to generate a boxplot of your numbers. "
   ]
  },
  {
   "cell_type": "code",
   "execution_count": null,
   "metadata": {},
   "outputs": [],
   "source": [
    "%matplotlib inline\n",
    "plot_5_summary(ds[\"0\"])"
   ]
  },
  {
   "cell_type": "markdown",
   "metadata": {},
   "source": [
    "How to interpret this plot: The red line represents the median. The edge of the box represents the 1st and 3rd quartile. The whiskers represent the minimum and maximum values.\n",
    "\n",
    "It gives a representation of the skewness of the data."
   ]
  }
 ],
 "metadata": {
  "kernelspec": {
   "display_name": "Python 3",
   "language": "python",
   "name": "python3"
  },
  "language_info": {
   "codemirror_mode": {
    "name": "ipython",
    "version": 3
   },
   "file_extension": ".py",
   "mimetype": "text/x-python",
   "name": "python",
   "nbconvert_exporter": "python",
   "pygments_lexer": "ipython3",
   "version": "3.7.6"
  }
 },
 "nbformat": 4,
 "nbformat_minor": 4
}
