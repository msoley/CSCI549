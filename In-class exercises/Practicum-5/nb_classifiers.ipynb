{
 "cells": [
  {
   "cell_type": "markdown",
   "metadata": {
    "id": "DSosXj75MDey"
   },
   "source": [
    "# A Notebook to Use Naïve Bayes Classifiers"
   ]
  },
  {
   "cell_type": "markdown",
   "metadata": {
    "id": "S5xbMR4pMJe5"
   },
   "source": [
    "This notebook shows how to train Naïve Bayes classifiers to classify unseen instances.\n",
    "\n",
    "For those of you interested in understanding the code, it uses predefined functions from the [sklearn](http://scikit-learn.org) library of machine learning primitives. "
   ]
  },
  {
   "cell_type": "markdown",
   "metadata": {
    "id": "Tt2a5F56MORA"
   },
   "source": [
    "Naïve Bayes Classifer is a probabilistic classifier which is based on Bayes Theorem.\n",
    "\n",
    "In particular, assume that the data are stored in a table with attributes $x_1,x_2,\\ldots,x_m$ and label $c$.\n",
    "Then the NBC is based on approximating the posterior probability of the class given the attributes as the product of the marginal conditional probabilities of each attribute given the class:\n",
    "\n",
    "$\n",
    "P(c|x_1,x_2,\\ldots,x_m) \\propto P(c)\\prod_{j=1}^m P(x_j|c)\n",
    "$\n",
    "\n",
    "First import the data and load custom functions"
   ]
  },
  {
   "cell_type": "code",
   "execution_count": 9,
   "metadata": {
    "colab": {
     "base_uri": "https://localhost:8080/"
    },
    "id": "FejnTcFRK7-M",
    "outputId": "7a7150fe-e9b0-481d-aa51-d0226bf2d2bc"
   },
   "outputs": [],
   "source": [
    "#!wget https://raw.githubusercontent.com/khider/INF549/master/Homework%20Assignments/Homework%204/Dataset/lenses.csv\n",
    "#!wget https://raw.githubusercontent.com/khider/INF549/master/Homework%20Assignments/Homework%204/Dataset/iris.csv "
   ]
  },
  {
   "cell_type": "code",
   "execution_count": 2,
   "metadata": {
    "id": "K8YfJdLAMQUY"
   },
   "outputs": [],
   "source": [
    "import numpy as np\n",
    "import pandas as pd\n",
    "from sklearn.naive_bayes import BernoulliNB,GaussianNB,MultinomialNB\n",
    "from sklearn.model_selection import cross_val_score\n",
    "\n",
    "# for this exercise we use\n",
    "# gaussian_NB.csv or multinomial_NB.csv\n",
    "# in the homework you will have to use lenses.csv and iris.csv\n",
    "\n",
    "def loadDataSet(dataset): \n",
    "    with open(dataset) as f:\n",
    "        data=f.readlines()\n",
    "        attributes=data[0].rstrip().split(',')[:-1]\n",
    "        instances=[entry.rstrip().split(',')[:-1] for entry in data[1:]]\n",
    "        dataArray=[]\n",
    "        for i in range(len(instances[0])):\n",
    "            dataArray.append([float(instance[i]) for instance in instances])\n",
    "        instances=np.array(dataArray).T\n",
    "        labels=[entry.rstrip().split(',')[-1] for entry in data[1:]]\n",
    "        return attributes,instances,labels\n",
    "\n",
    "\n",
    "\n",
    "def predict(testset):\n",
    "    if \"clf_G\" in globals():\n",
    "        prediction=clf_G.predict(testset)\n",
    "        print(\"GaussianNB: \",prediction)\n",
    "    if \"clf_M\" in globals():\n",
    "        prediction=clf_M.predict(testset)\n",
    "        print(\"MultinomialNB: \",prediction)"
   ]
  },
  {
   "cell_type": "markdown",
   "metadata": {
    "id": "sxuR53uWMeC4"
   },
   "source": [
    "## Building and Evaluating Naïve Bayes Classifiers\n",
    "\n",
    "We will be looking at the performance of two different Naïve Bayes Classifier. \n",
    "\n",
    "* Multinomial Naïve Bayes: suitable for classification with discrete features.\n",
    "* Gaussian Naïve Bayes: suitable for classification with continuous features."
   ]
  },
  {
   "cell_type": "markdown",
   "metadata": {
    "id": "E_f2mPUWMg8w"
   },
   "source": [
    "### Gaussian Naïve Bayes Classifier"
   ]
  },
  {
   "cell_type": "code",
   "execution_count": 3,
   "metadata": {
    "colab": {
     "base_uri": "https://localhost:8080/"
    },
    "id": "PZIYt4ogMehM",
    "outputId": "7ceb0882-0a14-4f5a-c893-cb36f22141eb"
   },
   "outputs": [
    {
     "name": "stdout",
     "output_type": "stream",
     "text": [
      "Gaussian Naïve Bayes is used.\n"
     ]
    }
   ],
   "source": [
    "#dataset=input('Please Enter Your Dataset:')\n",
    "dataset = \"Dataset/gaussian_NB.csv\"\n",
    "attributes,instances,labels=loadDataSet(dataset)\n",
    "clf_G = GaussianNB()\n",
    "clf_G.fit(instances, labels)\n",
    "print(\"Gaussian Naïve Bayes is used.\")"
   ]
  },
  {
   "cell_type": "markdown",
   "metadata": {},
   "source": [
    "Display table"
   ]
  },
  {
   "cell_type": "code",
   "execution_count": 4,
   "metadata": {},
   "outputs": [
    {
     "data": {
      "text/html": [
       "<div>\n",
       "<style scoped>\n",
       "    .dataframe tbody tr th:only-of-type {\n",
       "        vertical-align: middle;\n",
       "    }\n",
       "\n",
       "    .dataframe tbody tr th {\n",
       "        vertical-align: top;\n",
       "    }\n",
       "\n",
       "    .dataframe thead th {\n",
       "        text-align: right;\n",
       "    }\n",
       "</style>\n",
       "<table border=\"1\" class=\"dataframe\">\n",
       "  <thead>\n",
       "    <tr style=\"text-align: right;\">\n",
       "      <th></th>\n",
       "      <th>x1</th>\n",
       "      <th>x2</th>\n",
       "      <th>x3</th>\n",
       "      <th>x4</th>\n",
       "      <th>x5</th>\n",
       "      <th>label</th>\n",
       "    </tr>\n",
       "  </thead>\n",
       "  <tbody>\n",
       "    <tr>\n",
       "      <td>0</td>\n",
       "      <td>-1.413704</td>\n",
       "      <td>-0.077863</td>\n",
       "      <td>1.091286</td>\n",
       "      <td>-0.705300</td>\n",
       "      <td>-0.932561</td>\n",
       "      <td>0</td>\n",
       "    </tr>\n",
       "    <tr>\n",
       "      <td>1</td>\n",
       "      <td>-0.800891</td>\n",
       "      <td>-0.576351</td>\n",
       "      <td>0.239464</td>\n",
       "      <td>0.266842</td>\n",
       "      <td>-0.695066</td>\n",
       "      <td>0</td>\n",
       "    </tr>\n",
       "    <tr>\n",
       "      <td>2</td>\n",
       "      <td>0.869034</td>\n",
       "      <td>-0.358989</td>\n",
       "      <td>-1.961448</td>\n",
       "      <td>-0.647346</td>\n",
       "      <td>-1.548050</td>\n",
       "      <td>0</td>\n",
       "    </tr>\n",
       "    <tr>\n",
       "      <td>3</td>\n",
       "      <td>1.188028</td>\n",
       "      <td>1.732099</td>\n",
       "      <td>1.205512</td>\n",
       "      <td>-0.059275</td>\n",
       "      <td>0.434703</td>\n",
       "      <td>0</td>\n",
       "    </tr>\n",
       "    <tr>\n",
       "      <td>4</td>\n",
       "      <td>-0.015910</td>\n",
       "      <td>-0.487646</td>\n",
       "      <td>0.267645</td>\n",
       "      <td>0.102246</td>\n",
       "      <td>0.796127</td>\n",
       "      <td>0</td>\n",
       "    </tr>\n",
       "    <tr>\n",
       "      <td>...</td>\n",
       "      <td>...</td>\n",
       "      <td>...</td>\n",
       "      <td>...</td>\n",
       "      <td>...</td>\n",
       "      <td>...</td>\n",
       "      <td>...</td>\n",
       "    </tr>\n",
       "    <tr>\n",
       "      <td>295</td>\n",
       "      <td>3.923467</td>\n",
       "      <td>5.072645</td>\n",
       "      <td>5.030650</td>\n",
       "      <td>4.450783</td>\n",
       "      <td>4.968945</td>\n",
       "      <td>2</td>\n",
       "    </tr>\n",
       "    <tr>\n",
       "      <td>296</td>\n",
       "      <td>4.656775</td>\n",
       "      <td>3.570640</td>\n",
       "      <td>3.053496</td>\n",
       "      <td>5.304592</td>\n",
       "      <td>5.847753</td>\n",
       "      <td>2</td>\n",
       "    </tr>\n",
       "    <tr>\n",
       "      <td>297</td>\n",
       "      <td>2.950417</td>\n",
       "      <td>4.103848</td>\n",
       "      <td>4.357519</td>\n",
       "      <td>4.547723</td>\n",
       "      <td>2.969420</td>\n",
       "      <td>2</td>\n",
       "    </tr>\n",
       "    <tr>\n",
       "      <td>298</td>\n",
       "      <td>3.228452</td>\n",
       "      <td>3.367882</td>\n",
       "      <td>4.276642</td>\n",
       "      <td>5.247006</td>\n",
       "      <td>3.992887</td>\n",
       "      <td>2</td>\n",
       "    </tr>\n",
       "    <tr>\n",
       "      <td>299</td>\n",
       "      <td>4.689256</td>\n",
       "      <td>3.707339</td>\n",
       "      <td>4.786638</td>\n",
       "      <td>5.179247</td>\n",
       "      <td>5.096495</td>\n",
       "      <td>2</td>\n",
       "    </tr>\n",
       "  </tbody>\n",
       "</table>\n",
       "<p>300 rows × 6 columns</p>\n",
       "</div>"
      ],
      "text/plain": [
       "           x1        x2        x3        x4        x5  label\n",
       "0   -1.413704 -0.077863  1.091286 -0.705300 -0.932561      0\n",
       "1   -0.800891 -0.576351  0.239464  0.266842 -0.695066      0\n",
       "2    0.869034 -0.358989 -1.961448 -0.647346 -1.548050      0\n",
       "3    1.188028  1.732099  1.205512 -0.059275  0.434703      0\n",
       "4   -0.015910 -0.487646  0.267645  0.102246  0.796127      0\n",
       "..        ...       ...       ...       ...       ...    ...\n",
       "295  3.923467  5.072645  5.030650  4.450783  4.968945      2\n",
       "296  4.656775  3.570640  3.053496  5.304592  5.847753      2\n",
       "297  2.950417  4.103848  4.357519  4.547723  2.969420      2\n",
       "298  3.228452  3.367882  4.276642  5.247006  3.992887      2\n",
       "299  4.689256  3.707339  4.786638  5.179247  5.096495      2\n",
       "\n",
       "[300 rows x 6 columns]"
      ]
     },
     "metadata": {},
     "output_type": "display_data"
    }
   ],
   "source": [
    "df=pd.read_csv(dataset)\n",
    "display(df)"
   ]
  },
  {
   "cell_type": "code",
   "execution_count": 5,
   "metadata": {
    "colab": {
     "base_uri": "https://localhost:8080/"
    },
    "id": "X3XGVx_VNJT2",
    "outputId": "a3f27315-7c69-463c-fefe-84f52c225d1c"
   },
   "outputs": [
    {
     "name": "stdout",
     "output_type": "stream",
     "text": [
      "======GaussianNB======\n",
      "[1.        ,1.        ,0.96      ,0.98666667]\n",
      "Accuracy: 0.99 (+/- 0.03)\n"
     ]
    }
   ],
   "source": [
    "#n_foldCV=int(input(\"Please Enter the Number of Folds:\"))\n",
    "n_foldCV = 4\n",
    "attributes,instances,labels=loadDataSet(dataset)\n",
    "clf_G = GaussianNB()\n",
    "scores = cross_val_score(clf_G, instances, labels, cv=n_foldCV)\n",
    "print(\"======GaussianNB======\")\n",
    "print(np.array2string(scores,separator=\",\"))\n",
    "print(\"Accuracy: %0.2f (+/- %0.2f)\" % (scores.mean(), scores.std() * 2))"
   ]
  },
  {
   "cell_type": "markdown",
   "metadata": {
    "id": "Q3jMYqa0Mp1s"
   },
   "source": [
    "### Multinomial Naïve Bayes Classifier\n",
    "\n",
    "\n",
    "\n"
   ]
  },
  {
   "cell_type": "code",
   "execution_count": 6,
   "metadata": {
    "id": "aGuMAg3OMlkQ"
   },
   "outputs": [
    {
     "name": "stdout",
     "output_type": "stream",
     "text": [
      "Multinomial Naïve Bayes is used.\n"
     ]
    }
   ],
   "source": [
    "#dataset=input('Please Enter Your Dataset:')\n",
    "dataset = \"Dataset/multinomial_NB.csv\"\n",
    "attributes,instances,labels=loadDataSet(dataset)\n",
    "clf_M = MultinomialNB()\n",
    "clf_M.fit(instances, labels)\n",
    "print(\"Multinomial Naïve Bayes is used.\")"
   ]
  },
  {
   "cell_type": "markdown",
   "metadata": {},
   "source": [
    "Display the data"
   ]
  },
  {
   "cell_type": "code",
   "execution_count": 7,
   "metadata": {},
   "outputs": [
    {
     "data": {
      "text/html": [
       "<div>\n",
       "<style scoped>\n",
       "    .dataframe tbody tr th:only-of-type {\n",
       "        vertical-align: middle;\n",
       "    }\n",
       "\n",
       "    .dataframe tbody tr th {\n",
       "        vertical-align: top;\n",
       "    }\n",
       "\n",
       "    .dataframe thead th {\n",
       "        text-align: right;\n",
       "    }\n",
       "</style>\n",
       "<table border=\"1\" class=\"dataframe\">\n",
       "  <thead>\n",
       "    <tr style=\"text-align: right;\">\n",
       "      <th></th>\n",
       "      <th>x1</th>\n",
       "      <th>x2</th>\n",
       "      <th>x3</th>\n",
       "      <th>x4</th>\n",
       "      <th>x5</th>\n",
       "      <th>label</th>\n",
       "    </tr>\n",
       "  </thead>\n",
       "  <tbody>\n",
       "    <tr>\n",
       "      <td>0</td>\n",
       "      <td>3</td>\n",
       "      <td>0</td>\n",
       "      <td>0</td>\n",
       "      <td>2</td>\n",
       "      <td>0</td>\n",
       "      <td>0</td>\n",
       "    </tr>\n",
       "    <tr>\n",
       "      <td>1</td>\n",
       "      <td>1</td>\n",
       "      <td>2</td>\n",
       "      <td>0</td>\n",
       "      <td>1</td>\n",
       "      <td>1</td>\n",
       "      <td>0</td>\n",
       "    </tr>\n",
       "    <tr>\n",
       "      <td>2</td>\n",
       "      <td>1</td>\n",
       "      <td>4</td>\n",
       "      <td>0</td>\n",
       "      <td>0</td>\n",
       "      <td>0</td>\n",
       "      <td>0</td>\n",
       "    </tr>\n",
       "    <tr>\n",
       "      <td>3</td>\n",
       "      <td>1</td>\n",
       "      <td>1</td>\n",
       "      <td>1</td>\n",
       "      <td>1</td>\n",
       "      <td>1</td>\n",
       "      <td>0</td>\n",
       "    </tr>\n",
       "    <tr>\n",
       "      <td>4</td>\n",
       "      <td>3</td>\n",
       "      <td>0</td>\n",
       "      <td>1</td>\n",
       "      <td>1</td>\n",
       "      <td>0</td>\n",
       "      <td>0</td>\n",
       "    </tr>\n",
       "    <tr>\n",
       "      <td>...</td>\n",
       "      <td>...</td>\n",
       "      <td>...</td>\n",
       "      <td>...</td>\n",
       "      <td>...</td>\n",
       "      <td>...</td>\n",
       "      <td>...</td>\n",
       "    </tr>\n",
       "    <tr>\n",
       "      <td>295</td>\n",
       "      <td>3</td>\n",
       "      <td>1</td>\n",
       "      <td>0</td>\n",
       "      <td>0</td>\n",
       "      <td>1</td>\n",
       "      <td>2</td>\n",
       "    </tr>\n",
       "    <tr>\n",
       "      <td>296</td>\n",
       "      <td>1</td>\n",
       "      <td>3</td>\n",
       "      <td>1</td>\n",
       "      <td>0</td>\n",
       "      <td>0</td>\n",
       "      <td>2</td>\n",
       "    </tr>\n",
       "    <tr>\n",
       "      <td>297</td>\n",
       "      <td>2</td>\n",
       "      <td>2</td>\n",
       "      <td>1</td>\n",
       "      <td>0</td>\n",
       "      <td>0</td>\n",
       "      <td>2</td>\n",
       "    </tr>\n",
       "    <tr>\n",
       "      <td>298</td>\n",
       "      <td>1</td>\n",
       "      <td>2</td>\n",
       "      <td>0</td>\n",
       "      <td>0</td>\n",
       "      <td>2</td>\n",
       "      <td>2</td>\n",
       "    </tr>\n",
       "    <tr>\n",
       "      <td>299</td>\n",
       "      <td>1</td>\n",
       "      <td>3</td>\n",
       "      <td>1</td>\n",
       "      <td>0</td>\n",
       "      <td>0</td>\n",
       "      <td>2</td>\n",
       "    </tr>\n",
       "  </tbody>\n",
       "</table>\n",
       "<p>300 rows × 6 columns</p>\n",
       "</div>"
      ],
      "text/plain": [
       "     x1  x2  x3  x4  x5  label\n",
       "0     3   0   0   2   0      0\n",
       "1     1   2   0   1   1      0\n",
       "2     1   4   0   0   0      0\n",
       "3     1   1   1   1   1      0\n",
       "4     3   0   1   1   0      0\n",
       "..   ..  ..  ..  ..  ..    ...\n",
       "295   3   1   0   0   1      2\n",
       "296   1   3   1   0   0      2\n",
       "297   2   2   1   0   0      2\n",
       "298   1   2   0   0   2      2\n",
       "299   1   3   1   0   0      2\n",
       "\n",
       "[300 rows x 6 columns]"
      ]
     },
     "metadata": {},
     "output_type": "display_data"
    }
   ],
   "source": [
    "df=pd.read_csv(dataset)\n",
    "display(df)"
   ]
  },
  {
   "cell_type": "code",
   "execution_count": 8,
   "metadata": {
    "id": "q9X4oknXNSgU"
   },
   "outputs": [
    {
     "name": "stdout",
     "output_type": "stream",
     "text": [
      "======MultinomialNB======\n",
      "[0.58666667,0.62666667,0.58666667,0.69333333]\n",
      "Accuracy: 0.62 (+/- 0.09)\n"
     ]
    }
   ],
   "source": [
    "#n_foldCV=int(input(\"Please Enter the Number of Folds:\"))\n",
    "n_foldCV = 4\n",
    "attributes,instances,labels=loadDataSet(dataset)\n",
    "clf_M = MultinomialNB()\n",
    "scores = cross_val_score(clf_M, instances, labels, cv=n_foldCV)\n",
    "print(\"======MultinomialNB======\")\n",
    "print(np.array2string(scores,separator=\",\"))\n",
    "print(\"Accuracy: %0.2f (+/- %0.2f)\" % (scores.mean(), scores.std() * 2))"
   ]
  }
 ],
 "metadata": {
  "colab": {
   "name": "Notebook2_Naive_Bayes_Classifier.ipynb",
   "provenance": [],
   "toc_visible": true
  },
  "kernelspec": {
   "display_name": "Python 3",
   "language": "python",
   "name": "python3"
  },
  "language_info": {
   "codemirror_mode": {
    "name": "ipython",
    "version": 3
   },
   "file_extension": ".py",
   "mimetype": "text/x-python",
   "name": "python",
   "nbconvert_exporter": "python",
   "pygments_lexer": "ipython3",
   "version": "3.6.9"
  }
 },
 "nbformat": 4,
 "nbformat_minor": 1
}
