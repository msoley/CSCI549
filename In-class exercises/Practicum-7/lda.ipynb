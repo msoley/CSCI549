{
 "cells": [
  {
   "cell_type": "code",
   "execution_count": 4,
   "metadata": {},
   "outputs": [
    {
     "name": "stdout",
     "output_type": "stream",
     "text": [
      "Defaulting to user installation because normal site-packages is not writeable\n",
      "Requirement already satisfied: spacy in /home/valentino/.local/lib/python3.6/site-packages (3.1.3)\n",
      "Requirement already satisfied: requests<3.0.0,>=2.13.0 in /home/valentino/.local/lib/python3.6/site-packages (from spacy) (2.22.0)\n",
      "Requirement already satisfied: wasabi<1.1.0,>=0.8.1 in /home/valentino/.local/lib/python3.6/site-packages (from spacy) (0.8.2)\n",
      "Requirement already satisfied: thinc<8.1.0,>=8.0.9 in /home/valentino/.local/lib/python3.6/site-packages (from spacy) (8.0.10)\n",
      "Requirement already satisfied: preshed<3.1.0,>=3.0.2 in /home/valentino/.local/lib/python3.6/site-packages (from spacy) (3.0.5)\n",
      "Requirement already satisfied: murmurhash<1.1.0,>=0.28.0 in /home/valentino/.local/lib/python3.6/site-packages (from spacy) (1.0.5)\n",
      "Requirement already satisfied: tqdm<5.0.0,>=4.38.0 in /home/valentino/.local/lib/python3.6/site-packages (from spacy) (4.62.3)\n",
      "Requirement already satisfied: typing-extensions<4.0.0.0,>=3.7.4 in /home/valentino/.local/lib/python3.6/site-packages (from spacy) (3.7.4.3)\n",
      "Requirement already satisfied: setuptools in /home/valentino/.local/lib/python3.6/site-packages (from spacy) (42.0.2)\n",
      "Requirement already satisfied: cymem<2.1.0,>=2.0.2 in /home/valentino/.local/lib/python3.6/site-packages (from spacy) (2.0.5)\n",
      "Requirement already satisfied: srsly<3.0.0,>=2.4.1 in /home/valentino/.local/lib/python3.6/site-packages (from spacy) (2.4.1)\n",
      "Requirement already satisfied: pathy>=0.3.5 in /home/valentino/.local/lib/python3.6/site-packages (from spacy) (0.6.0)\n",
      "Requirement already satisfied: packaging>=20.0 in /home/valentino/.local/lib/python3.6/site-packages (from spacy) (21.0)\n",
      "Requirement already satisfied: catalogue<2.1.0,>=2.0.6 in /home/valentino/.local/lib/python3.6/site-packages (from spacy) (2.0.6)\n",
      "Requirement already satisfied: typer<0.5.0,>=0.3.0 in /home/valentino/.local/lib/python3.6/site-packages (from spacy) (0.4.0)\n",
      "Requirement already satisfied: numpy>=1.15.0 in /home/valentino/.local/lib/python3.6/site-packages (from spacy) (1.19.5)\n",
      "Requirement already satisfied: jinja2 in /home/valentino/.local/lib/python3.6/site-packages (from spacy) (2.10.1)\n",
      "Requirement already satisfied: spacy-legacy<3.1.0,>=3.0.8 in /home/valentino/.local/lib/python3.6/site-packages (from spacy) (3.0.8)\n",
      "Requirement already satisfied: blis<0.8.0,>=0.4.0 in /home/valentino/.local/lib/python3.6/site-packages (from spacy) (0.7.4)\n",
      "Requirement already satisfied: pydantic!=1.8,!=1.8.1,<1.9.0,>=1.7.4 in /home/valentino/.local/lib/python3.6/site-packages (from spacy) (1.8.2)\n",
      "Requirement already satisfied: zipp>=0.5 in /home/valentino/.local/lib/python3.6/site-packages (from catalogue<2.1.0,>=2.0.6->spacy) (3.6.0)\n",
      "Requirement already satisfied: pyparsing>=2.0.2 in /home/valentino/.local/lib/python3.6/site-packages (from packaging>=20.0->spacy) (2.4.2)\n",
      "Requirement already satisfied: smart-open<6.0.0,>=5.0.0 in /home/valentino/.local/lib/python3.6/site-packages (from pathy>=0.3.5->spacy) (5.2.1)\n",
      "Requirement already satisfied: dataclasses<1.0,>=0.6 in /home/valentino/.local/lib/python3.6/site-packages (from pathy>=0.3.5->spacy) (0.8)\n",
      "Requirement already satisfied: chardet<3.1.0,>=3.0.2 in /usr/lib/python3/dist-packages (from requests<3.0.0,>=2.13.0->spacy) (3.0.4)\n",
      "Requirement already satisfied: urllib3!=1.25.0,!=1.25.1,<1.26,>=1.21.1 in /usr/lib/python3/dist-packages (from requests<3.0.0,>=2.13.0->spacy) (1.22)\n",
      "Requirement already satisfied: certifi>=2017.4.17 in /usr/lib/python3/dist-packages (from requests<3.0.0,>=2.13.0->spacy) (2018.1.18)\n",
      "Requirement already satisfied: idna<2.9,>=2.5 in /home/valentino/.local/lib/python3.6/site-packages (from requests<3.0.0,>=2.13.0->spacy) (2.8)\n",
      "Requirement already satisfied: contextvars<3,>=2.4 in /home/valentino/.local/lib/python3.6/site-packages (from thinc<8.1.0,>=8.0.9->spacy) (2.4)\n",
      "Requirement already satisfied: immutables>=0.9 in /home/valentino/.local/lib/python3.6/site-packages (from contextvars<3,>=2.4->thinc<8.1.0,>=8.0.9->spacy) (0.16)\n",
      "Requirement already satisfied: click<9.0.0,>=7.1.1 in /home/valentino/.local/lib/python3.6/site-packages (from typer<0.5.0,>=0.3.0->spacy) (7.1.2)\n",
      "Requirement already satisfied: MarkupSafe>=0.23 in /usr/lib/python3/dist-packages (from jinja2->spacy) (1.0)\n",
      "\u001b[33mWARNING: You are using pip version 21.2.4; however, version 21.3 is available.\n",
      "You should consider upgrading via the '/usr/bin/python3 -m pip install --upgrade pip' command.\u001b[0m\n",
      "/usr/bin/python: No module named spacy\n",
      "--2021-10-25 17:51:05--  https://github.com/khider/INF549/tree/master/In-class%20exercises/Practicum-7/20news-bydate_py3.pkz\n",
      "Resolving github.com (github.com)... 140.82.113.4\n",
      "Connecting to github.com (github.com)|140.82.113.4|:443... connected.\n",
      "WARNING: cannot verify github.com's certificate, issued by ‘CN=DigiCert High Assurance TLS Hybrid ECC SHA256 2020 CA1,O=DigiCert\\\\, Inc.,C=US’:\n",
      "  Unable to locally verify the issuer's authority.\n",
      "HTTP request sent, awaiting response... 301 Moved Permanently\n",
      "Location: https://github.com/khider/INF549/blob/master/In-class%20exercises/Practicum-7/20news-bydate_py3.pkz [following]\n",
      "--2021-10-25 17:51:05--  https://github.com/khider/INF549/blob/master/In-class%20exercises/Practicum-7/20news-bydate_py3.pkz\n",
      "Reusing existing connection to github.com:443.\n",
      "HTTP request sent, awaiting response... 200 OK\n",
      "Length: unspecified [text/html]\n",
      "Saving to: ‘20news-bydate_py3.pkz.2’\n",
      "\n",
      "20news-bydate_py3.p     [ <=>                ] 130.39K  --.-KB/s    in 0.07s   \n",
      "\n",
      "2021-10-25 17:51:05 (1.96 MB/s) - ‘20news-bydate_py3.pkz.2’ saved [133518]\n",
      "\n"
     ]
    }
   ],
   "source": [
    "import os\n",
    "import ssl\n",
    "\n",
    "import re\n",
    "import numpy as np\n",
    "import pandas as pd\n",
    "from pprint import pprint\n",
    "import gensim\n",
    "import gensim.corpora as corpora\n",
    "from gensim.utils import simple_preprocess\n",
    "from gensim.models.ldamodel import LdaModel\n",
    "from gensim.models import CoherenceModel\n",
    "import spacy\n",
    "\n",
    "!pip install spacy\n",
    "!python -m spacy download en_core_web_dm\n",
    "\n",
    "#import pyLDAvis\n",
    "#import pyLDAvis.gensim\n",
    "import matplotlib.pyplot as plt\n",
    "\n",
    "import nltk\n",
    "from nltk.corpus import stopwords\n",
    "\n",
    "from sklearn.datasets import fetch_20newsgroups\n",
    "\n",
    "\n",
    "def remove_stopwords(texts, stop_words):\n",
    "    return [[word for word in simple_preprocess(str(doc))\n",
    "             if word not in stop_words] for doc in texts]\n",
    "\n",
    "def make_bigrams(texts, bigram_mod):\n",
    "    return [bigram_mod[doc] for doc in texts]\n",
    "\n",
    "\n",
    "def make_trigrams(texts, trigram_mod):\n",
    "    [trigram_mod[bigram_mod[doc]] for doc in texts]\n",
    "\n",
    "\n",
    "def lemmatization(texts,\n",
    "                  nlp,\n",
    "                  allowed_postags=['NOUN', 'ADJ', 'VERB', 'ADV']):\n",
    "\n",
    "    texts_out = []\n",
    "    for sent in texts:\n",
    "        doc = nlp(\" \".join(sent))\n",
    "        texts_out.append(\n",
    "            [token.lemma_ for token in doc if token.pos_ in allowed_postags])\n",
    "    return texts_out\n",
    "\n",
    "# when run it in colab\n",
    "!wget https://github.com/khider/INF549/tree/master/In-class%20exercises/Practicum-7/20news-bydate_py3.pkz --no-check-certificate\n"
   ]
  },
  {
   "cell_type": "markdown",
   "metadata": {},
   "source": [
    "Import a corpus of documents and build a dictionary out of it"
   ]
  },
  {
   "cell_type": "code",
   "execution_count": 2,
   "metadata": {},
   "outputs": [
    {
     "name": "stdout",
     "output_type": "stream",
     "text": [
      "[['human', 'interface', 'computer'], ['survey', 'user', 'computer', 'system', 'response', 'time'], ['eps', 'user', 'interface', 'system'], ['system', 'human', 'system', 'eps'], ['user', 'response', 'time'], ['trees'], ['graph', 'trees'], ['graph', 'minors', 'trees'], ['graph', 'minors', 'survey']]\n"
     ]
    }
   ],
   "source": [
    "from gensim.test.utils import common_texts\n",
    "\n",
    "print(common_texts)"
   ]
  },
  {
   "cell_type": "code",
   "execution_count": 3,
   "metadata": {},
   "outputs": [
    {
     "name": "stdout",
     "output_type": "stream",
     "text": [
      "[(0, 'computer'), (1, 'human'), (2, 'interface'), (3, 'response'), (4, 'survey'), (5, 'system'), (6, 'time'), (7, 'user'), (8, 'eps'), (9, 'trees'), (10, 'graph'), (11, 'minors')]\n"
     ]
    }
   ],
   "source": [
    "common_dictionary = corpora.Dictionary(common_texts)\n",
    "\n",
    "print(list(common_dictionary.items()))"
   ]
  },
  {
   "cell_type": "code",
   "execution_count": 4,
   "metadata": {},
   "outputs": [
    {
     "name": "stdout",
     "output_type": "stream",
     "text": [
      "{'computer': 0, 'human': 1, 'interface': 2, 'response': 3, 'survey': 4, 'system': 5, 'time': 6, 'user': 7, 'eps': 8, 'trees': 9, 'graph': 10, 'minors': 11}\n"
     ]
    }
   ],
   "source": [
    "# alternatively\n",
    "print(common_dictionary.token2id)"
   ]
  },
  {
   "cell_type": "markdown",
   "metadata": {},
   "source": [
    "Build BOW representation of corpus of common texts"
   ]
  },
  {
   "cell_type": "code",
   "execution_count": 5,
   "metadata": {},
   "outputs": [
    {
     "name": "stdout",
     "output_type": "stream",
     "text": [
      "[[(0, 1), (1, 1), (2, 1)], [(0, 1), (3, 1), (4, 1), (5, 1), (6, 1), (7, 1)], [(2, 1), (5, 1), (7, 1), (8, 1)], [(1, 1), (5, 2), (8, 1)], [(3, 1), (6, 1), (7, 1)], [(9, 1)], [(9, 1), (10, 1)], [(9, 1), (10, 1), (11, 1)], [(4, 1), (10, 1), (11, 1)]]\n"
     ]
    }
   ],
   "source": [
    "common_corpus = [common_dictionary.doc2bow(text) for text in common_texts]\n",
    "print(common_corpus)"
   ]
  },
  {
   "cell_type": "markdown",
   "metadata": {},
   "source": [
    "Show bow representation of corpus with actual words"
   ]
  },
  {
   "cell_type": "code",
   "execution_count": 6,
   "metadata": {},
   "outputs": [
    {
     "name": "stdout",
     "output_type": "stream",
     "text": [
      "* BOW corpus with actual words\n",
      "[[('computer', 1), ('human', 1), ('interface', 1)], [('computer', 1), ('response', 1), ('survey', 1), ('system', 1), ('time', 1), ('user', 1)], [('interface', 1), ('system', 1), ('user', 1), ('eps', 1)], [('human', 1), ('system', 2), ('eps', 1)], [('response', 1), ('time', 1), ('user', 1)], [('trees', 1)], [('trees', 1), ('graph', 1)], [('trees', 1), ('graph', 1), ('minors', 1)], [('survey', 1), ('graph', 1), ('minors', 1)]]\n"
     ]
    }
   ],
   "source": [
    "print(\"* BOW corpus with actual words\")\n",
    "id_words = [[(common_dictionary[id], count) for (id, count) in line] for line in common_corpus]\n",
    "print(id_words)"
   ]
  },
  {
   "cell_type": "markdown",
   "metadata": {},
   "source": [
    "Build LDA model with 10 topics"
   ]
  },
  {
   "cell_type": "code",
   "execution_count": 7,
   "metadata": {},
   "outputs": [],
   "source": [
    "lda = LdaModel(corpus = common_corpus, id2word = common_dictionary, num_topics=10)"
   ]
  },
  {
   "cell_type": "markdown",
   "metadata": {},
   "source": [
    "Display learned topics"
   ]
  },
  {
   "cell_type": "code",
   "execution_count": 8,
   "metadata": {},
   "outputs": [
    {
     "name": "stdout",
     "output_type": "stream",
     "text": [
      "[(0,\n",
      "  '0.187*\"user\" + 0.187*\"system\" + 0.098*\"computer\" + 0.098*\"time\" + '\n",
      "  '0.098*\"response\" + 0.098*\"survey\" + 0.098*\"eps\" + 0.098*\"interface\" + '\n",
      "  '0.009*\"trees\" + 0.009*\"graph\" + 0.009*\"minors\" + 0.009*\"human\"'),\n",
      " (1,\n",
      "  '0.083*\"graph\" + 0.083*\"trees\" + 0.083*\"system\" + 0.083*\"interface\" + '\n",
      "  '0.083*\"computer\" + 0.083*\"user\" + 0.083*\"response\" + 0.083*\"minors\" + '\n",
      "  '0.083*\"eps\" + 0.083*\"survey\" + 0.083*\"time\" + 0.083*\"human\"'),\n",
      " (2,\n",
      "  '0.292*\"minors\" + 0.292*\"graph\" + 0.153*\"trees\" + 0.153*\"survey\" + '\n",
      "  '0.014*\"system\" + 0.014*\"computer\" + 0.014*\"user\" + 0.014*\"human\" + '\n",
      "  '0.014*\"eps\" + 0.014*\"interface\" + 0.014*\"response\" + 0.014*\"time\"'),\n",
      " (3,\n",
      "  '0.344*\"trees\" + 0.344*\"graph\" + 0.031*\"system\" + 0.031*\"minors\" + '\n",
      "  '0.031*\"time\" + 0.031*\"interface\" + 0.031*\"human\" + 0.031*\"computer\" + '\n",
      "  '0.031*\"response\" + 0.031*\"user\" + 0.031*\"survey\" + 0.031*\"eps\"'),\n",
      " (4,\n",
      "  '0.262*\"human\" + 0.262*\"interface\" + 0.262*\"computer\" + 0.024*\"trees\" + '\n",
      "  '0.024*\"graph\" + 0.024*\"system\" + 0.024*\"user\" + 0.024*\"minors\" + '\n",
      "  '0.024*\"survey\" + 0.024*\"response\" + 0.024*\"eps\" + 0.024*\"time\"'),\n",
      " (5,\n",
      "  '0.083*\"trees\" + 0.083*\"graph\" + 0.083*\"system\" + 0.083*\"interface\" + '\n",
      "  '0.083*\"user\" + 0.083*\"minors\" + 0.083*\"human\" + 0.083*\"computer\" + '\n",
      "  '0.083*\"survey\" + 0.083*\"time\" + 0.083*\"response\" + 0.083*\"eps\"'),\n",
      " (6,\n",
      "  '0.083*\"trees\" + 0.083*\"graph\" + 0.083*\"system\" + 0.083*\"interface\" + '\n",
      "  '0.083*\"time\" + 0.083*\"minors\" + 0.083*\"response\" + 0.083*\"eps\" + '\n",
      "  '0.083*\"computer\" + 0.083*\"survey\" + 0.083*\"user\" + 0.083*\"human\"'),\n",
      " (7,\n",
      "  '0.404*\"system\" + 0.212*\"eps\" + 0.212*\"human\" + 0.019*\"trees\" + '\n",
      "  '0.019*\"graph\" + 0.019*\"user\" + 0.019*\"minors\" + 0.019*\"computer\" + '\n",
      "  '0.019*\"time\" + 0.019*\"interface\" + 0.019*\"survey\" + 0.019*\"response\"'),\n",
      " (8,\n",
      "  '0.262*\"user\" + 0.262*\"response\" + 0.262*\"time\" + 0.024*\"trees\" + '\n",
      "  '0.024*\"graph\" + 0.024*\"system\" + 0.024*\"human\" + 0.024*\"minors\" + '\n",
      "  '0.024*\"interface\" + 0.024*\"eps\" + 0.024*\"computer\" + 0.024*\"survey\"'),\n",
      " (9,\n",
      "  '0.500*\"trees\" + 0.045*\"graph\" + 0.045*\"system\" + 0.045*\"user\" + '\n",
      "  '0.045*\"human\" + 0.045*\"minors\" + 0.045*\"response\" + 0.045*\"time\" + '\n",
      "  '0.045*\"eps\" + 0.045*\"interface\" + 0.045*\"survey\" + 0.045*\"computer\"')]\n"
     ]
    }
   ],
   "source": [
    "#for topic in lda.get_topics():\n",
    "#    print(topic)\n",
    "\n",
    "# display words numerically encoded\n",
    "#for topic in lda.show_topics():\n",
    "#    print(topic)\n",
    "\n",
    "# diplay topics\n",
    "pprint(lda.show_topics(num_words=len(common_dictionary)))"
   ]
  },
  {
   "cell_type": "markdown",
   "metadata": {},
   "source": [
    "Consider new documents"
   ]
  },
  {
   "cell_type": "code",
   "execution_count": 9,
   "metadata": {},
   "outputs": [
    {
     "name": "stdout",
     "output_type": "stream",
     "text": [
      "[[(0, 1), (6, 1), (10, 1)], [(3, 1), (4, 1), (8, 1)], [(0, 1), (1, 1), (5, 1)]]\n"
     ]
    }
   ],
   "source": [
    "new_documents = [\n",
    "        ['computer', 'time', 'graph'],\n",
    "        ['survey', 'response', 'eps'],\n",
    "        ['human', 'system', 'computer']\n",
    "    ]\n",
    "new_corpus = [common_dictionary.doc2bow(text) for text in new_documents]\n",
    "\n",
    "print(new_corpus)"
   ]
  },
  {
   "cell_type": "markdown",
   "metadata": {},
   "source": [
    "Get BOW representation of first new document"
   ]
  },
  {
   "cell_type": "code",
   "execution_count": 10,
   "metadata": {},
   "outputs": [
    {
     "name": "stdout",
     "output_type": "stream",
     "text": [
      "[(0, 1), (6, 1), (10, 1)]\n"
     ]
    }
   ],
   "source": [
    "# get vector of document\n",
    "bow_doc = common_dictionary.doc2bow(new_documents[0])\n",
    "\n",
    "print(bow_doc)"
   ]
  },
  {
   "cell_type": "markdown",
   "metadata": {},
   "source": [
    "Embed document in space: express bow representation as convex combination of topics"
   ]
  },
  {
   "cell_type": "code",
   "execution_count": 11,
   "metadata": {},
   "outputs": [
    {
     "name": "stdout",
     "output_type": "stream",
     "text": [
      ">>>> topic prob distribution: lda[bow_doc]\n",
      "[(0, 0.025007963), (1, 0.02500007), (2, 0.27498457), (3, 0.025011482), (4, 0.27499786), (5, 0.02500007), (6, 0.02500007), (7, 0.025000064), (8, 0.27499783), (9, 0.025000066)]\n"
     ]
    }
   ],
   "source": [
    "print(\">>>> topic prob distribution: lda[bow_doc]\")\n",
    "print(lda[bow_doc])\n",
    "\n",
    "# or\n",
    "# print(lda.get_document_topics(bow_doc))"
   ]
  },
  {
   "cell_type": "markdown",
   "metadata": {},
   "source": [
    "Update LDA model with new texts"
   ]
  },
  {
   "cell_type": "code",
   "execution_count": 12,
   "metadata": {},
   "outputs": [
    {
     "name": "stdout",
     "output_type": "stream",
     "text": [
      "[(0,\n",
      "  '0.213*\"survey\" + 0.213*\"eps\" + 0.213*\"response\" + 0.090*\"system\" + '\n",
      "  '0.090*\"user\" + 0.049*\"computer\" + 0.049*\"time\" + 0.049*\"interface\" + '\n",
      "  '0.008*\"trees\" + 0.008*\"graph\" + 0.008*\"minors\" + 0.008*\"human\"'),\n",
      " (1,\n",
      "  '0.083*\"graph\" + 0.083*\"trees\" + 0.083*\"system\" + 0.083*\"interface\" + '\n",
      "  '0.083*\"computer\" + 0.083*\"user\" + 0.083*\"response\" + 0.083*\"minors\" + '\n",
      "  '0.083*\"eps\" + 0.083*\"survey\" + 0.083*\"time\" + 0.083*\"human\"'),\n",
      " (2,\n",
      "  '0.500*\"graph\" + 0.177*\"minors\" + 0.097*\"survey\" + 0.097*\"trees\" + '\n",
      "  '0.016*\"computer\" + 0.016*\"time\" + 0.016*\"system\" + 0.016*\"user\" + '\n",
      "  '0.016*\"human\" + 0.016*\"eps\" + 0.016*\"interface\" + 0.016*\"response\"'),\n",
      " (3,\n",
      "  '0.273*\"graph\" + 0.273*\"trees\" + 0.045*\"system\" + 0.045*\"minors\" + '\n",
      "  '0.045*\"time\" + 0.045*\"interface\" + 0.045*\"human\" + 0.045*\"computer\" + '\n",
      "  '0.045*\"response\" + 0.045*\"user\" + 0.045*\"survey\" + 0.045*\"eps\"'),\n",
      " (4,\n",
      "  '0.582*\"computer\" + 0.228*\"human\" + 0.076*\"interface\" + 0.013*\"time\" + '\n",
      "  '0.013*\"graph\" + 0.013*\"system\" + 0.013*\"trees\" + 0.013*\"user\" + '\n",
      "  '0.013*\"minors\" + 0.013*\"survey\" + 0.013*\"response\" + 0.013*\"eps\"'),\n",
      " (5,\n",
      "  '0.083*\"trees\" + 0.083*\"graph\" + 0.083*\"system\" + 0.083*\"interface\" + '\n",
      "  '0.083*\"user\" + 0.083*\"minors\" + 0.083*\"human\" + 0.083*\"computer\" + '\n",
      "  '0.083*\"survey\" + 0.083*\"time\" + 0.083*\"response\" + 0.083*\"eps\"'),\n",
      " (6,\n",
      "  '0.083*\"trees\" + 0.083*\"graph\" + 0.083*\"system\" + 0.083*\"interface\" + '\n",
      "  '0.083*\"time\" + 0.083*\"minors\" + 0.083*\"response\" + 0.083*\"eps\" + '\n",
      "  '0.083*\"computer\" + 0.083*\"survey\" + 0.083*\"user\" + 0.083*\"human\"'),\n",
      " (7,\n",
      "  '0.517*\"system\" + 0.233*\"human\" + 0.100*\"eps\" + 0.017*\"computer\" + '\n",
      "  '0.017*\"trees\" + 0.017*\"graph\" + 0.017*\"user\" + 0.017*\"minors\" + '\n",
      "  '0.017*\"time\" + 0.017*\"interface\" + 0.017*\"survey\" + 0.017*\"response\"'),\n",
      " (8,\n",
      "  '0.553*\"time\" + 0.128*\"response\" + 0.128*\"user\" + 0.021*\"computer\" + '\n",
      "  '0.021*\"graph\" + 0.021*\"trees\" + 0.021*\"system\" + 0.021*\"human\" + '\n",
      "  '0.021*\"minors\" + 0.021*\"interface\" + 0.021*\"eps\" + 0.021*\"survey\"'),\n",
      " (9,\n",
      "  '0.353*\"trees\" + 0.059*\"graph\" + 0.059*\"system\" + 0.059*\"user\" + '\n",
      "  '0.059*\"human\" + 0.059*\"minors\" + 0.059*\"response\" + 0.059*\"time\" + '\n",
      "  '0.059*\"eps\" + 0.059*\"interface\" + 0.059*\"survey\" + 0.059*\"computer\"')]\n"
     ]
    }
   ],
   "source": [
    "lda.update(new_corpus)\n",
    "pprint(lda.show_topics(num_words=len(common_dictionary)))"
   ]
  },
  {
   "cell_type": "markdown",
   "metadata": {},
   "source": [
    "Consider new corpus"
   ]
  },
  {
   "cell_type": "code",
   "execution_count": 14,
   "metadata": {},
   "outputs": [
    {
     "name": "stdout",
     "output_type": "stream",
     "text": [
      "[\"From: lerxst@wam.umd.edu (where's my thing)\\nSubject: WHAT car is this!?\\nNntp-Posting-Host: rac3.wam.umd.edu\\nOrganization: University of Maryland, College Park\\nLines: 15\\n\\n I was wondering if anyone out there could enlighten me on this car I saw\\nthe other day. It was a 2-door sports car, looked to be from the late 60s/\\nearly 70s. It was called a Bricklin. The doors were really small. In addition,\\nthe front bumper was separate from the rest of the body. This is \\nall I know. If anyone can tellme a model name, engine specs, years\\nof production, where this car is made, history, or whatever info you\\nhave on this funky looking car, please e-mail.\\n\\nThanks,\\n- IL\\n   ---- brought to you by your neighborhood Lerxst ----\\n\\n\\n\\n\\n\", \"From: guykuo@carson.u.washington.edu (Guy Kuo)\\nSubject: SI Clock Poll - Final Call\\nSummary: Final call for SI clock reports\\nKeywords: SI,acceleration,clock,upgrade\\nArticle-I.D.: shelley.1qvfo9INNc3s\\nOrganization: University of Washington\\nLines: 11\\nNNTP-Posting-Host: carson.u.washington.edu\\n\\nA fair number of brave souls who upgraded their SI clock oscillator have\\nshared their experiences for this poll. Please send a brief message detailing\\nyour experiences with the procedure. Top speed attained, CPU rated speed,\\nadd on cards and adapters, heat sinks, hour of usage per day, floppy disk\\nfunctionality with 800 and 1.4 m floppies are especially requested.\\n\\nI will be summarizing in the next two days, so please add to the network\\nknowledge base if you have done the clock upgrade and haven't answered this\\npoll. Thanks.\\n\\nGuy Kuo <guykuo@u.washington.edu>\\n\", 'From: twillis@ec.ecn.purdue.edu (Thomas E Willis)\\nSubject: PB questions...\\nOrganization: Purdue University Engineering Computer Network\\nDistribution: usa\\nLines: 36\\n\\nwell folks, my mac plus finally gave up the ghost this weekend after\\nstarting life as a 512k way back in 1985.  sooo, i\\'m in the market for a\\nnew machine a bit sooner than i intended to be...\\n\\ni\\'m looking into picking up a powerbook 160 or maybe 180 and have a bunch\\nof questions that (hopefully) somebody can answer:\\n\\n* does anybody know any dirt on when the next round of powerbook\\nintroductions are expected?  i\\'d heard the 185c was supposed to make an\\nappearence \"this summer\" but haven\\'t heard anymore on it - and since i\\ndon\\'t have access to macleak, i was wondering if anybody out there had\\nmore info...\\n\\n* has anybody heard rumors about price drops to the powerbook line like the\\nones the duo\\'s just went through recently?\\n\\n* what\\'s the impression of the display on the 180?  i could probably swing\\na 180 if i got the 80Mb disk rather than the 120, but i don\\'t really have\\na feel for how much \"better\" the display is (yea, it looks great in the\\nstore, but is that all \"wow\" or is it really that good?).  could i solicit\\nsome opinions of people who use the 160 and 180 day-to-day on if its worth\\ntaking the disk size and money hit to get the active display?  (i realize\\nthis is a real subjective question, but i\\'ve only played around with the\\nmachines in a computer store breifly and figured the opinions of somebody\\nwho actually uses the machine daily might prove helpful).\\n\\n* how well does hellcats perform?  ;)\\n\\nthanks a bunch in advance for any info - if you could email, i\\'ll post a\\nsummary (news reading time is at a premium with finals just around the\\ncorner... :( )\\n--\\nTom Willis  \\\\  twillis@ecn.purdue.edu    \\\\    Purdue Electrical Engineering\\n---------------------------------------------------------------------------\\n\"Convictions are more dangerous enemies of truth than lies.\"  - F. W.\\nNietzsche\\n', 'From: jgreen@amber (Joe Green)\\nSubject: Re: Weitek P9000 ?\\nOrganization: Harris Computer Systems Division\\nLines: 14\\nDistribution: world\\nNNTP-Posting-Host: amber.ssd.csd.harris.com\\nX-Newsreader: TIN [version 1.1 PL9]\\n\\nRobert J.C. Kyanko (rob@rjck.UUCP) wrote:\\n> abraxis@iastate.edu writes in article <abraxis.734340159@class1.iastate.edu>:\\n> > Anyone know about the Weitek P9000 graphics chip?\\n> As far as the low-level stuff goes, it looks pretty nice.  It\\'s got this\\n> quadrilateral fill command that requires just the four points.\\n\\nDo you have Weitek\\'s address/phone number?  I\\'d like to get some information\\nabout this chip.\\n\\n--\\nJoe Green\\t\\t\\t\\tHarris Corporation\\njgreen@csd.harris.com\\t\\t\\tComputer Systems Division\\n\"The only thing that really scares me is a person with no sense of humor.\"\\n\\t\\t\\t\\t\\t\\t-- Jonathan Winters\\n']\n"
     ]
    }
   ],
   "source": [
    "    # to do only once\n",
    "    # import nltk\n",
    "    # nltk.download(\"stopwords\")\n",
    "    if (not os.environ.get('PYTHONHTTPSVERIFY', '') and\n",
    "            getattr(ssl, '_create_unverified_context', None)):\n",
    "        ssl._create_default_https_context = ssl._create_unverified_context\n",
    "\n",
    "    # define stop words\n",
    "    stop_words = ['stop', 'the', 'to', 'and', 'a', 'in', 'it',\n",
    "                  'is', 'I', 'that', 'had', 'on', 'for', 'were', 'was',\n",
    "                  'from', 'subject', 're', 'edu', 'use']\n",
    "\n",
    "    # nltk.download('stopwords')\n",
    "    #stop_words = set(stopwords.words('english'))\n",
    "    #stop_words.extend(['from', 'subject', 're', 'edu', 'use'])\n",
    "\n",
    "    # read corpus\n",
    "    newsgroups_train = fetch_20newsgroups(subset='train', data_home=\"./\")\n",
    "    data = newsgroups_train.data\n",
    "    \n",
    "    print(data[:4])"
   ]
  },
  {
   "cell_type": "markdown",
   "metadata": {},
   "source": [
    "Preprocess data"
   ]
  },
  {
   "cell_type": "code",
   "execution_count": 15,
   "metadata": {},
   "outputs": [
    {
     "name": "stderr",
     "output_type": "stream",
     "text": [
      "<input>:1: DeprecationWarning: invalid escape sequence \\S\n",
      "<input>:1: DeprecationWarning: invalid escape sequence \\S\n",
      "<input>:1: DeprecationWarning: invalid escape sequence \\S\n",
      "<input>:1: DeprecationWarning: invalid escape sequence \\S\n",
      "<input>:2: DeprecationWarning: invalid escape sequence \\s\n",
      "<input>:1: DeprecationWarning: invalid escape sequence \\S\n",
      "<input>:2: DeprecationWarning: invalid escape sequence \\s\n",
      "<input>:1: DeprecationWarning: invalid escape sequence \\S\n",
      "<input>:2: DeprecationWarning: invalid escape sequence \\s\n",
      "<input>:1: DeprecationWarning: invalid escape sequence \\S\n",
      "<input>:2: DeprecationWarning: invalid escape sequence \\s\n",
      "<input>:1: DeprecationWarning: invalid escape sequence \\S\n",
      "<input>:2: DeprecationWarning: invalid escape sequence \\s\n",
      "<input>:1: DeprecationWarning: invalid escape sequence \\S\n",
      "<input>:2: DeprecationWarning: invalid escape sequence \\s\n",
      "<input>:1: DeprecationWarning: invalid escape sequence \\S\n",
      "<input>:2: DeprecationWarning: invalid escape sequence \\s\n",
      "<input>:1: DeprecationWarning: invalid escape sequence \\S\n",
      "<input>:2: DeprecationWarning: invalid escape sequence \\s\n",
      "<input>:1: DeprecationWarning: invalid escape sequence \\S\n",
      "<input>:2: DeprecationWarning: invalid escape sequence \\s\n",
      "<input>:1: DeprecationWarning: invalid escape sequence \\S\n",
      "<input>:2: DeprecationWarning: invalid escape sequence \\s\n",
      "<input>:1: DeprecationWarning: invalid escape sequence \\S\n",
      "<input>:2: DeprecationWarning: invalid escape sequence \\s\n",
      "<input>:1: DeprecationWarning: invalid escape sequence \\S\n",
      "<input>:2: DeprecationWarning: invalid escape sequence \\s\n",
      "<input>:1: DeprecationWarning: invalid escape sequence \\S\n",
      "<input>:2: DeprecationWarning: invalid escape sequence \\s\n",
      "<input>:1: DeprecationWarning: invalid escape sequence \\S\n",
      "<input>:2: DeprecationWarning: invalid escape sequence \\s\n",
      "<input>:1: DeprecationWarning: invalid escape sequence \\S\n",
      "<input>:2: DeprecationWarning: invalid escape sequence \\s\n",
      "<ipython-input-15-ba90d2dcca5b>:1: DeprecationWarning: invalid escape sequence \\S\n",
      "  data = [re.sub('\\S*@\\S*\\s?', '', sent) for sent in data]\n",
      "<ipython-input-15-ba90d2dcca5b>:2: DeprecationWarning: invalid escape sequence \\s\n",
      "  data = [re.sub('\\s+', ' ', sent) for sent in data]\n"
     ]
    },
    {
     "name": "stdout",
     "output_type": "stream",
     "text": [
      "['From: (wheres my thing) Subject: WHAT car is this!? Nntp-Posting-Host: rac3.wam.umd.edu Organization: University of Maryland, College Park Lines: 15 I was wondering if anyone out there could enlighten me on this car I saw the other day. It was a 2-door sports car, looked to be from the late 60s/ early 70s. It was called a Bricklin. The doors were really small. In addition, the front bumper was separate from the rest of the body. This is all I know. If anyone can tellme a model name, engine specs, years of production, where this car is made, history, or whatever info you have on this funky looking car, please e-mail. Thanks, - IL ---- brought to you by your neighborhood Lerxst ---- ', 'From: (Guy Kuo) Subject: SI Clock Poll - Final Call Summary: Final call for SI clock reports Keywords: SI,acceleration,clock,upgrade Article-I.D.: shelley.1qvfo9INNc3s Organization: University of Washington Lines: 11 NNTP-Posting-Host: carson.u.washington.edu A fair number of brave souls who upgraded their SI clock oscillator have shared their experiences for this poll. Please send a brief message detailing your experiences with the procedure. Top speed attained, CPU rated speed, add on cards and adapters, heat sinks, hour of usage per day, floppy disk functionality with 800 and 1.4 m floppies are especially requested. I will be summarizing in the next two days, so please add to the network knowledge base if you have done the clock upgrade and havent answered this poll. Thanks. Guy Kuo ', 'From: (Thomas E Willis) Subject: PB questions... Organization: Purdue University Engineering Computer Network Distribution: usa Lines: 36 well folks, my mac plus finally gave up the ghost this weekend after starting life as a 512k way back in 1985. sooo, im in the market for a new machine a bit sooner than i intended to be... im looking into picking up a powerbook 160 or maybe 180 and have a bunch of questions that (hopefully) somebody can answer: * does anybody know any dirt on when the next round of powerbook introductions are expected? id heard the 185c was supposed to make an appearence \"this summer\" but havent heard anymore on it - and since i dont have access to macleak, i was wondering if anybody out there had more info... * has anybody heard rumors about price drops to the powerbook line like the ones the duos just went through recently? * whats the impression of the display on the 180? i could probably swing a 180 if i got the 80Mb disk rather than the 120, but i dont really have a feel for how much \"better\" the display is (yea, it looks great in the store, but is that all \"wow\" or is it really that good?). could i solicit some opinions of people who use the 160 and 180 day-to-day on if its worth taking the disk size and money hit to get the active display? (i realize this is a real subjective question, but ive only played around with the machines in a computer store breifly and figured the opinions of somebody who actually uses the machine daily might prove helpful). * how well does hellcats perform? ;) thanks a bunch in advance for any info - if you could email, ill post a summary (news reading time is at a premium with finals just around the corner... :( ) -- Tom Willis \\\\ \\\\ Purdue Electrical Engineering --------------------------------------------------------------------------- \"Convictions are more dangerous enemies of truth than lies.\" - F. W. Nietzsche ', 'From: (Joe Green) Subject: Re: Weitek P9000 ? Organization: Harris Computer Systems Division Lines: 14 Distribution: world NNTP-Posting-Host: amber.ssd.csd.harris.com X-Newsreader: TIN [version 1.1 PL9] Robert J.C. Kyanko wrote: > writes in article > > Anyone know about the Weitek P9000 graphics chip? > As far as the low-level stuff goes, it looks pretty nice. Its got this > quadrilateral fill command that requires just the four points. Do you have Weiteks address/phone number? Id like to get some information about this chip. -- Joe Green Harris Corporation Computer Systems Division \"The only thing that really scares me is a person with no sense of humor.\" -- Jonathan Winters ']\n"
     ]
    }
   ],
   "source": [
    "data = [re.sub('\\S*@\\S*\\s?', '', sent) for sent in data]\n",
    "data = [re.sub('\\s+', ' ', sent) for sent in data]\n",
    "data = [re.sub(\"\\'\", \"\", sent) for sent in data]\n",
    "\n",
    "# it will print the data after prepared for stopwords\n",
    "print(data[:4])"
   ]
  },
  {
   "cell_type": "markdown",
   "metadata": {},
   "source": [
    "Remove stop words and lemmatize texts"
   ]
  },
  {
   "cell_type": "code",
   "execution_count": 16,
   "metadata": {},
   "outputs": [
    {
     "name": "stdout",
     "output_type": "stream",
     "text": [
      "[['where', 's', 'thing', 'car', 'nntp', 'post', 'host', 'park', 'line', 'wonder', 'out', 'there', 'enlighten', 'car', 'see', 'other', 'day', 'door', 'sport', 'car', 'look', 'be', 'late', 'early', 'call', 'door', 'really', 'small', 'addition', 'front', 'bumper', 'separate', 'rest', 'body', 'know', 'tellme', 'model', 'name', 'engine', 'spec', 'year', 'production', 'where', 'car', 'make', 'history', 'info', 'have', 'funky', 'look', 'car', 'mail', 'thank', 'bring', 'neighborhood', 'lerxst'], ['si', 'poll', 'final', 'call', 'summary', 'final', 'call', 'si', 'clock', 'report', 'keyword', 'si', 'acceleration', 'clock', 'article', 'line', 'posting', 'host', 'fair', 'number', 'brave', 'soul', 'upgrade', 'si', 'clock', 'oscillator', 'have', 'share', 'experience', 'poll', 'send', 'brief', 'message', 'detail', 'experience', 'procedure', 'top', 'speed', 'attain', 'cpu', 'rate', 'speed', 'add', 'card', 'adapter', 'heat', 'sink', 'hour', 'usage', 'day', 'floppy', 'disk', 'functionality', 'floppy', 'be', 'especially', 'request', 'be', 'summarize', 'next', 'day', 'so', 'add', 'network', 'knowledge', 'base', 'have', 'do', 'clock', 'upgrade', 'have', 'answer', 'poll', 'thank', 'guy'], ['engineering', 'computer', 'network', 'line', 'well', 'folk', 'mac', 'finally', 'give', 'ghost', 'weekend', 'start', 'life', 'way', 'back', 'sooo', 'm', 'market', 'new', 'machine', 'bit', 'soon', 'intend', 'be', 'm', 'look', 'pick', 'powerbook', 'maybe', 'have', 'bunch', 'question', 'hopefully', 'answer', 'do', 'know', 'dirt', 'when', 'next', 'round', 'powerbook', 'introduction', 'be', 'expect', 'd', 'hear', 'suppose', 'make', 'appearence', 'summer', 'have', 'hear', 'anymore', 'do', 'have', 'access', 'macleak', 'wonder', 'there', 'more', 'info', 'have', 'hear', 'rumor', 'price', 'drop', 'powerbook', 'line', 'one', 'duo', 'just', 'go', 'recently', 's', 'impression', 'display', 'probably', 'swing', 'get', 'mb', 'disk', 'rather', 'do', 'really', 'have', 'feel', 'how', 'much', 'well', 'display', 'look', 'great', 'store', 'really', 'good', 'solicit', 'opinion', 'people', 'day', 'day', 'worth', 'take', 'disk', 'size', 'money', 'hit', 'get', 'active', 'display', 'realize', 'real', 'subjective', 'question', 've', 'only', 'play', 'machine', 'computer', 'store', 'breifly', 'figure', 'opinion', 'actually', 'use', 'machine', 'daily', 'prove', 'helpful', 'how', 'well', 'do', 'hellcat', 'perform', 'thank', 'bunch', 'advance', 'info', 'email', 'ill', 'post', 'summary', 'news', 'read', 'time', 'premium', 'final', 'just', 'corner', 'engineering', 'conviction', 'be', 'more', 'dangerous', 'enemy', 'truth', 'lie'], ['system', 'division', 'line', 'distribution', 'world', 'nntp', 'posting', 'host', 'write', 'write', 'article', 'know', 'graphic', 'chip', 'as', 'far', 'low', 'level', 'stuff', 'go', 'look', 'pretty', 'nice', 'get', 'quadrilateral', 'fill', 'command', 'require', 'just', 'point', 'do', 'have', 'weitek', 'address', 'phone', 'number', 'i', 'd', 'get', 'information', 'chip', 'system', 'division', 'only', 'thing', 'really', 'scare', 'person', 'sense', 'humor', 'winter']]\n"
     ]
    }
   ],
   "source": [
    "bigram = gensim.models.Phrases(data, min_count=5, threshold=100)\n",
    "#trigram = gensim.models.Phrases(bigram[data], threshold=100)\n",
    "bigram_mod = gensim.models.phrases.Phraser(bigram)\n",
    "#trigram_mod = gensim.models.phrases.Phraser(trigram)\n",
    "\n",
    "data_words_nostops = remove_stopwords(data, stop_words)\n",
    "data_words_bigrams = make_bigrams(data_words_nostops, bigram_mod)\n",
    "nlp = spacy.load('en_core_web_md', disable=['parser', 'ner'])\n",
    "data_lemmatized = lemmatization(data_words_bigrams, nlp, allowed_postags=[\n",
    "    'NOUN', 'ADJ', 'VERB', 'ADV'])\n",
    "print(data_lemmatized[:4])  # it will print the lemmatized data."
   ]
  },
  {
   "cell_type": "markdown",
   "metadata": {},
   "source": [
    "Build LDA Model"
   ]
  },
  {
   "cell_type": "code",
   "execution_count": 17,
   "metadata": {},
   "outputs": [
    {
     "name": "stdout",
     "output_type": "stream",
     "text": [
      "* corpus in BOW format with actual words\n",
      "[[('addition', 1), ('be', 1), ('body', 1), ('bring', 1), ('bumper', 1), ('call', 1), ('car', 5), ('day', 1), ('door', 2), ('early', 1), ('engine', 1), ('enlighten', 1), ('front', 1), ('funky', 1), ('have', 1), ('history', 1), ('host', 1), ('info', 1), ('know', 1), ('late', 1), ('lerxst', 1), ('line', 1), ('look', 2), ('mail', 1), ('make', 1), ('model', 1), ('name', 1), ('neighborhood', 1), ('nntp', 1), ('other', 1), ('out', 1), ('park', 1), ('post', 1), ('production', 1), ('really', 1), ('rest', 1), ('s', 1), ('see', 1), ('separate', 1), ('small', 1), ('spec', 1), ('sport', 1), ('tellme', 1), ('thank', 1), ('there', 1), ('thing', 1), ('where', 2), ('wonder', 1), ('year', 1)], [('be', 2), ('call', 2), ('day', 2), ('have', 3), ('host', 1), ('line', 1), ('thank', 1), ('acceleration', 1), ('adapter', 1), ('add', 2), ('answer', 1), ('article', 1), ('attain', 1), ('base', 1), ('brave', 1), ('brief', 1), ('card', 1), ('clock', 4), ('cpu', 1), ('detail', 1), ('disk', 1), ('do', 1), ('especially', 1), ('experience', 2), ('fair', 1), ('final', 2), ('floppy', 2), ('functionality', 1), ('guy', 1), ('heat', 1), ('hour', 1), ('keyword', 1), ('knowledge', 1), ('message', 1), ('network', 1), ('next', 1), ('number', 1), ('oscillator', 1), ('poll', 3), ('posting', 1), ('procedure', 1), ('rate', 1), ('report', 1), ('request', 1), ('send', 1), ('share', 1), ('si', 4), ('sink', 1), ('so', 1), ('soul', 1), ('speed', 2), ('summarize', 1), ('summary', 1), ('top', 1), ('upgrade', 2), ('usage', 1)], [('be', 3), ('day', 2), ('have', 5), ('info', 2), ('know', 1), ('line', 2), ('look', 2), ('make', 1), ('post', 1), ('really', 2), ('s', 1), ('thank', 1), ('there', 1), ('wonder', 1), ('answer', 1), ('disk', 2), ('do', 4), ('final', 1), ('network', 1), ('next', 1), ('summary', 1), ('access', 1), ('active', 1), ('actually', 1), ('advance', 1), ('anymore', 1), ('appearence', 1), ('back', 1), ('bit', 1), ('breifly', 1), ('bunch', 2), ('computer', 2), ('conviction', 1), ('corner', 1), ('d', 1), ('daily', 1), ('dangerous', 1), ('dirt', 1), ('display', 3), ('drop', 1), ('duo', 1), ('email', 1), ('enemy', 1), ('engineering', 2), ('expect', 1), ('feel', 1), ('figure', 1), ('finally', 1), ('folk', 1), ('get', 2), ('ghost', 1), ('give', 1), ('go', 1), ('good', 1), ('great', 1), ('hear', 3), ('hellcat', 1), ('helpful', 1), ('hit', 1), ('hopefully', 1), ('how', 2), ('ill', 1), ('impression', 1), ('intend', 1), ('introduction', 1), ('just', 2), ('lie', 1), ('life', 1), ('m', 2), ('mac', 1), ('machine', 3), ('macleak', 1), ('market', 1), ('maybe', 1), ('mb', 1), ('money', 1), ('more', 2), ('much', 1), ('new', 1), ('news', 1), ('one', 1), ('only', 1), ('opinion', 2), ('people', 1), ('perform', 1), ('pick', 1), ('play', 1), ('powerbook', 3), ('premium', 1), ('price', 1), ('probably', 1), ('prove', 1), ('question', 2), ('rather', 1), ('read', 1), ('real', 1), ('realize', 1), ('recently', 1), ('round', 1), ('rumor', 1), ('size', 1), ('solicit', 1), ('soon', 1), ('sooo', 1), ('start', 1), ('store', 2), ('subjective', 1), ('summer', 1), ('suppose', 1), ('swing', 1), ('take', 1), ('time', 1), ('truth', 1), ('use', 1), ('ve', 1), ('way', 1), ('weekend', 1), ('well', 3), ('when', 1), ('worth', 1)], [('have', 1), ('host', 1), ('know', 1), ('line', 1), ('look', 1), ('nntp', 1), ('really', 1), ('thing', 1), ('article', 1), ('do', 1), ('number', 1), ('posting', 1), ('d', 1), ('get', 2), ('go', 1), ('just', 1), ('only', 1), ('address', 1), ('as', 1), ('chip', 2), ('command', 1), ('distribution', 1), ('division', 2), ('far', 1), ('fill', 1), ('graphic', 1), ('humor', 1), ('i', 1), ('information', 1), ('level', 1), ('low', 1), ('nice', 1), ('person', 1), ('phone', 1), ('point', 1), ('pretty', 1), ('quadrilateral', 1), ('require', 1), ('scare', 1), ('sense', 1), ('stuff', 1), ('system', 2), ('weitek', 1), ('winter', 1), ('world', 1), ('write', 2)]]\n",
      "\n",
      "* Build LDA model\n",
      "[(0,\n",
      "  '0.034*\"child\" + 0.026*\"kill\" + 0.025*\"death\" + 0.024*\"people\" + 0.018*\"war\" '\n",
      "  '+ 0.016*\"soldier\" + 0.016*\"attack\" + 0.016*\"man\" + 0.014*\"village\" + '\n",
      "  '0.014*\"woman\"'),\n",
      " (1,\n",
      "  '0.021*\"use\" + 0.021*\"system\" + 0.016*\"file\" + 0.016*\"window\" + '\n",
      "  '0.016*\"program\" + 0.014*\"be\" + 0.014*\"chip\" + 0.014*\"card\" + '\n",
      "  '0.011*\"software\" + 0.011*\"bit\"'),\n",
      " (2,\n",
      "  '0.098*\"be\" + 0.037*\"do\" + 0.035*\"have\" + 0.015*\"people\" + 0.013*\"other\" + '\n",
      "  '0.013*\"say\" + 0.010*\"only\" + 0.009*\"make\" + 0.008*\"write\" + '\n",
      "  '0.008*\"believe\"'),\n",
      " (3,\n",
      "  '0.303*\"drive\" + 0.047*\"engine\" + 0.045*\"power\" + 0.040*\"hard\" + '\n",
      "  '0.036*\"gateway\" + 0.027*\"pt\" + 0.023*\"oil\" + 0.022*\"cool\" + 0.021*\"water\" + '\n",
      "  '0.020*\"boy\"'),\n",
      " (4,\n",
      "  '0.071*\"research\" + 0.060*\"president\" + 0.045*\"review\" + 0.037*\"center\" + '\n",
      "  '0.036*\"international\" + 0.029*\"conference\" + 0.028*\"western\" + '\n",
      "  '0.028*\"community\" + 0.027*\"development\" + 0.027*\"camp\"'),\n",
      " (5,\n",
      "  '0.130*\"space\" + 0.039*\"launch\" + 0.037*\"orbit\" + 0.036*\"notice\" + '\n",
      "  '0.033*\"moon\" + 0.029*\"mission\" + 0.027*\"earth\" + 0.024*\"satellite\" + '\n",
      "  '0.022*\"shuttle\" + 0.020*\"ground\"'),\n",
      " (6,\n",
      "  '0.102*\"evidence\" + 0.070*\"faith\" + 0.061*\"god\" + 0.051*\"christian\" + '\n",
      "  '0.047*\"truth\" + 0.030*\"reality\" + 0.029*\"publish\" + 0.025*\"human\" + '\n",
      "  '0.024*\"system\" + 0.024*\"revelation\"'),\n",
      " (7,\n",
      "  '0.132*\"line\" + 0.075*\"host\" + 0.070*\"posting\" + 0.067*\"organization\" + '\n",
      "  '0.051*\"write\" + 0.034*\"article\" + 0.033*\"thank\" + 0.031*\"nntp\" + '\n",
      "  '0.031*\"post\" + 0.030*\"distribution\"'),\n",
      " (8,\n",
      "  '0.715*\"ax\" + 0.104*\"key\" + 0.032*\"clipper\" + 0.015*\"secure\" + '\n",
      "  '0.008*\"registration\" + 0.007*\"wiretap\" + 0.005*\"investigation\" + '\n",
      "  '0.004*\"cult\" + 0.003*\"garage\" + 0.003*\"scope\"'),\n",
      " (9,\n",
      "  '0.104*\"physical\" + 0.051*\"turkish\" + 0.037*\"direct\" + 0.035*\"armenian\" + '\n",
      "  '0.032*\"turk\" + 0.023*\"being\" + 0.019*\"muslim\" + 0.018*\"escape\" + '\n",
      "  '0.017*\"daughter\" + 0.014*\"russian\"'),\n",
      " (10,\n",
      "  '0.048*\"planet\" + 0.043*\"sky\" + 0.040*\"suck\" + 0.038*\"forward\" + '\n",
      "  '0.036*\"sender\" + 0.030*\"chemical\" + 0.027*\"distant\" + 0.026*\"radius\" + '\n",
      "  '0.025*\"vision\" + 0.022*\"survey\"'),\n",
      " (11,\n",
      "  '0.013*\"wipe\" + 0.000*\"serialisation\" + 0.000*\"configure\" + 0.000*\"install\" '\n",
      "  '+ 0.000*\"abortion\" + 0.000*\"caste\" + 0.000*\"inconvienence\" + '\n",
      "  '0.000*\"hideous\" + 0.000*\"vandalize\" + 0.000*\"deserve\"'),\n",
      " (12,\n",
      "  '0.078*\"team\" + 0.074*\"game\" + 0.066*\"win\" + 0.059*\"play\" + 0.038*\"player\" + '\n",
      "  '0.032*\"year\" + 0.027*\"season\" + 0.025*\"wing\" + 0.025*\"fan\" + '\n",
      "  '0.019*\"division\"'),\n",
      " (13,\n",
      "  '0.091*\"wire\" + 0.057*\"period\" + 0.046*\"waste\" + 0.044*\"cable\" + '\n",
      "  '0.039*\"scripture\" + 0.038*\"cd\" + 0.037*\"benefit\" + 0.033*\"wave\" + '\n",
      "  '0.030*\"connector\" + 0.017*\"outlaw\"'),\n",
      " (14,\n",
      "  '0.039*\"have\" + 0.037*\"do\" + 0.034*\"be\" + 0.019*\"get\" + 0.015*\"go\" + '\n",
      "  '0.012*\"just\" + 0.012*\"good\" + 0.011*\"m\" + 0.011*\"write\" + 0.010*\"know\"'),\n",
      " (15,\n",
      "  '0.052*\"price\" + 0.041*\"sale\" + 0.036*\"color\" + 0.035*\"offer\" + '\n",
      "  '0.034*\"model\" + 0.032*\"sell\" + 0.031*\"tape\" + 0.028*\"new\" + 0.021*\"unit\" + '\n",
      "  '0.019*\"printer\"'),\n",
      " (16,\n",
      "  '0.031*\"be\" + 0.027*\"law\" + 0.023*\"public\" + 0.021*\"government\" + '\n",
      "  '0.014*\"state\" + 0.012*\"number\" + 0.011*\"system\" + 0.011*\"encryption\" + '\n",
      "  '0.009*\"issue\" + 0.009*\"serial\"'),\n",
      " (17,\n",
      "  '0.109*\"kid\" + 0.061*\"cap\" + 0.025*\"junk\" + 0.025*\"counter\" + 0.016*\"wash\" + '\n",
      "  '0.007*\"incline\" + 0.007*\"prescription\" + 0.006*\"wierd\" + 0.006*\"chase\" + '\n",
      "  '0.006*\"chemist\"'),\n",
      " (18,\n",
      "  '0.149*\"gun\" + 0.065*\"weapon\" + 0.034*\"amendment\" + 0.031*\"control\" + '\n",
      "  '0.029*\"crime\" + 0.027*\"arm\" + 0.026*\"militia\" + 0.026*\"carry\" + '\n",
      "  '0.025*\"right\" + 0.022*\"arab\"'),\n",
      " (19,\n",
      "  '0.047*\"science\" + 0.026*\"patient\" + 0.026*\"study\" + 0.019*\"report\" + '\n",
      "  '0.017*\"discussion\" + 0.016*\"body\" + 0.015*\"serious\" + 0.014*\"knowledge\" + '\n",
      "  '0.014*\"disease\" + 0.014*\"medical\"')]\n"
     ]
    }
   ],
   "source": [
    "id2word = corpora.Dictionary(data_lemmatized)\n",
    "texts = data_lemmatized\n",
    "corpus = [id2word.doc2bow(text) for text in texts]\n",
    "\n",
    "print(\"* corpus in BOW format with actual words\")\n",
    "# print(corpus[:4])\n",
    "# it will print the words with their frequencies.\n",
    "print([[(id2word[id], freq) for id, freq in cp] for cp in corpus[:4]])\n",
    "\n",
    "print(\"\\n* Build LDA model or read it from file\")\n",
    "in_file = False\n",
    "if in_file:\n",
    "    lda_model = LdaModel.load(\"big_lda_model\")\n",
    "else:\n",
    "    lda_model = gensim.models.ldamodel.LdaModel(\n",
    "            corpus=corpus,\n",
    "            id2word=id2word,\n",
    "            num_topics=20,\n",
    "            random_state=100,\n",
    "            update_every=1,\n",
    "            chunksize=100,\n",
    "            passes=10,\n",
    "            alpha='auto',\n",
    "            per_word_topics=False\n",
    "        )\n",
    "    lda_model.save(\"big_lda_model\")\n",
    "        \n",
    "doc_lda = lda_model[corpus]\n",
    "pprint(lda_model.print_topics())"
   ]
  },
  {
   "cell_type": "markdown",
   "metadata": {},
   "source": [
    "Retrieve the top 5 documents closest to a query document"
   ]
  },
  {
   "cell_type": "code",
   "execution_count": 26,
   "metadata": {},
   "outputs": [
    {
     "name": "stdout",
     "output_type": "stream",
     "text": [
      "(0.9966782927513123,['where', 'be', 'doubter', 'now', 'organization', 'cellar', 'public', 'access', 'system', 'line', 'write', 'article', 'make', 'cream', 'cheese', 'side', 'tomorrow', 'night', 'leafs', 'be', 'equal', 'then', 'again', 'maybe', 'put', 'mildly', 'watch', 'flyer', 'demolish', 'last', 'night', 'realize', 'matter', 'how', 'good', 'leafs', 'line', 'be', 'need', 'more', 'decent', 'line', 'go', 'far', 'playoff', 'course', 'healthy', 'darling', 'cellar', 'public', 'access', 'system', 'genie', 'darling', 'facthq', 'truth', 'technology'])\n",
      "\n",
      "(0.9956613779067993,['phil', 'be', 'still', 'look', 'immaculate', 'line', 'technology', 'lady', 'gentleman', 'step', 'take', 'triumphant', 'trip', 'year', 'tonight', 'english', 'mulholland', 'era', 'tonight', 'game', 'nice', 'try', 'drabek', 'ninja'])\n",
      "\n",
      "(0.994295597076416,['odometer', 'use', 'medical', 'center', 'radiology', 'line', 'nntp', 'posting', 'host', 'write', 's', 'scary', 's', 'way', 'set', 'arbitrary', 'mileage', 'figure', 'odometer', 'trust', 'odometer', 'read', 'even', 'prove', 'odometer', 'same', 'come', 'car', 'originally', 'wonder', 'shed', 'light', 'just', 'how', 'electronic', 'odometer', 'remember', 'total', 'elapsed', 'mileage', 'kind', 'memory', 'stable', 'reliable', 'enough', 'non', 'volatile', 'enough', 'independent', 'enough', 'outside', 'battery', 'power', 'last', 'say', 'year', 'more', 'life', 'vehicle', 'm', 'amazed', 'be', 'expect', 'work', 'length', 'time', 'especially', 'light', 'gizmo', 'work', 'be', 'do', 'good', 'work', 'month', 'break', 'somehow', 'side', 'question', 'how', 'legal', 'ramification', 'sell', 'use', 'car', 'replace', 'odometer', 'start', 'over', 'mile', 'say', 'actual', 'mile', 'look', 'fraud', 'be', 'fairly', 'easy', 'price', 'new', 'odometer', 'say', 'have', 'however', 'many', 'mile', 'want', 'tell', 'buyer', 'have', 'thank', 'insight', 'medical', 'center', 'nuclear', 'medicine'])\n",
      "\n",
      "(0.9940398931503296,['help', 'line', 'have', 'experience', 'new', 'commlib', 'even', 'get', 'demo', 'winterm', 'run', 'baud', 'drop', 'character', 'tnx'])\n",
      "\n",
      "(0.993414580821991,['movie', 'technology', 'line', 'article', 'random', 'one', 'write', 'dance', 'wovie', 'hell', 'ios', 'wovie', 'wovy', 'sp', 'hell', 'io', 'fix', 'own', 'typo', 'blame', 'other', 'go', 'skin', 'now', 'next', 'question', 'do', 'emotional', 'music', 'have', 'quite', 'go', 'brave', 'effect', 'no', 'more', 'go', 'hornet', 'go', 'capital', 'fan', 'internet'])\n",
      "\n",
      "(0.9933673143386841,['propose', 'catcher', 'sub', 'technology', 'line', 'nntp', 'posting', 'host', 'achate', 'mit', 'red', 'usually', 'have', 'catcher', 'do', 'think', 'have', 'backup', 'now', 'use', 'backup', 'catcher', 'as', 'well', 'middle', 'infielder', 'outfielder', 'do', 'need', 'good', 'rd', 'catcher', 'just', 'competent', 'afford', 'lose', 'little', 'catch', 'ability', 'pick', 'player', 'be', 'elsewhere', 'field'])\n",
      "\n",
      "(0.992829442024231,['king', 'banaian', 'player', 'overpay', 'line', 'organization', 'list', 'underpaid', 'player', 'plantier', 'do', 'player', 'have', 'common', 'do', 'qualify', 'arbitration', 'never', 'free', 'agent', 'call', 'reserve', 'clause', 'look', 'year', 'now', 'whine', 'how', 'several', 'guy', 'be', 'way', 'overpay', 'get', 'outrageous', 'raise', 'taxis', 'new', 'taxis', 'old', 'taxis', 'be', 'tax', 'dept', 'economic', 'enough', 'late', 'forecast', 'run'])\n",
      "\n",
      "(0.9927180409431458,['alpha', 'network', 'line', 'article', 'well', 'write', 'love', 'idea', 'inflatable', 'mile', 'long', 'sign', 'be', 'really', 'neat', 'thing', 'see', 'explode', 'when', 'bolt', 'even', 'well', 'needle', 'come', 'crash', 'click', 'pageos', 'echo', 'balloon', 'inflate', 'substance', 'expand', 'vacuum', 'once', 'inflate', 'substance', 'no', 'long', 'need', 'there', 'cause', 'balloon', 'collapse', 'inflatable', 'structure', 'suffer', 'multiple', 'hole', 'disastrous', 'deflation', 'item', 'extract'])\n",
      "\n",
      "(0.9925836324691772,['line', 'posting', 'host', 'save', 'wail', 'write', 'rotor', 'recall', 'only', 'clock', 'also', 'have', 'rotor', 'warp', 'apparently', 'have', 'fix', 'problem', 'yet', 'try', 'convince', 'service', 'person', 'fix', 'free', 'right', 'tony', 'gad', 'have', 'hear', 'so', 'many', 'horror', 'story', 'car', 'think', 'premium', 'american', 'automobile', 'way', 'sell', 'd', 'think', 'really', 'no', 'well', 'late', 'when', 'turn', 'tin', 'can', 'get', 'accord'])\n",
      "\n",
      "(0.9918361306190491,['need', 'advice', 'doctor', 'relationship', 'problem', 'organization', 'line', 'service', 'guest', 'line', 'd', 'dump', 'rude', 'rude', 'seem', 'enjoy', 'belittle', 'humiliate', 'do', 'just', 'dump', 'write', 'tell', 'why', 'be', 'fire', 'think', 'send', 'copy', 'letter', 'charge', 'clinic', 'where', 'work', 'applicable', 'maybe', 'even', 'do', 'be', 'vindictive', 'letter', 'be', 'truthful', 'very', 'firm', 'do', 'be', 'victim', 'just', 'put', 'take', 'control', 'make', 'feel', 'great'])\n",
      "\n"
     ]
    }
   ],
   "source": [
    "from gensim.similarities import MatrixSimilarity\n",
    "from gensim.test.utils import common_corpus, common_dictionary, get_tmpfile\n",
    "\n",
    "index = MatrixSimilarity(doc_lda, num_features=len(id2word))\n",
    "index.save(\"simIndex.index\")\n",
    "\n",
    "query_text = \"my internet connection is slow I need to upgrade my service contract so that I can play games and stream high definition videos at the same time\".lower().split()\n",
    "vec_bow = id2word.doc2bow(query_text)\n",
    "vec_lda = lda_model[vec_bow]\n",
    "\n",
    "sims = index[vec_lda]\n",
    "sims = sorted(enumerate(sims), key=lambda item: -item[1])\n",
    "#print(sims[:5])\n",
    "\n",
    "# Print actual documents\n",
    "for (id,p) in sims[:10]:\n",
    "    print(\"({},{})\".format(p,texts[id]))\n",
    "    print()\n"
   ]
  }
 ],
 "metadata": {
  "kernelspec": {
   "display_name": "Python 3",
   "language": "python",
   "name": "python3"
  },
  "language_info": {
   "codemirror_mode": {
    "name": "ipython",
    "version": 3
   },
   "file_extension": ".py",
   "mimetype": "text/x-python",
   "name": "python",
   "nbconvert_exporter": "python",
   "pygments_lexer": "ipython3",
   "version": "3.6.9"
  }
 },
 "nbformat": 4,
 "nbformat_minor": 2
}
